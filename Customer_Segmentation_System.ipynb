{
  "nbformat": 4,
  "nbformat_minor": 0,
  "metadata": {
    "colab": {
      "provenance": [],
      "mount_file_id": "11aCCmp19zr7k_Il98Y-QuiuYiNmHM1bQ",
      "authorship_tag": "ABX9TyMXQCwwSHarqKAJcec9aZ24"
    },
    "kernelspec": {
      "name": "python3",
      "display_name": "Python 3"
    },
    "language_info": {
      "name": "python"
    }
  },
  "cells": [
    {
      "cell_type": "code",
      "source": [
        "# Import required libraries\n",
        "\n",
        "import pandas as pd\n",
        "import numpy as np\n",
        "from sklearn.cluster import KMeans , DBSCAN\n",
        "import plotly.express as px\n",
        "import plotly.graph_objects as go\n",
        "import matplotlib.pyplot as plt\n",
        "from sklearn.mixture import GaussianMixture\n",
        "import matplotlib.pyplot as pl\n"
      ],
      "metadata": {
        "id": "TYSVHQoaw26K"
      },
      "execution_count": null,
      "outputs": []
    },
    {
      "cell_type": "code",
      "source": [
        "#Load customers data\n",
        "df = pd.read_csv(\"/content/drive/MyDrive/Projects/Cust_Segmentation.csv\")\n",
        "\n"
      ],
      "metadata": {
        "id": "EH2d6o-M08kE"
      },
      "execution_count": null,
      "outputs": []
    },
    {
      "cell_type": "code",
      "source": [
        "df.head()"
      ],
      "metadata": {
        "colab": {
          "base_uri": "https://localhost:8080/",
          "height": 206
        },
        "id": "2tFE5boh1JOC",
        "outputId": "4e6d2cf9-57fa-4275-b1e4-462459229b46"
      },
      "execution_count": null,
      "outputs": [
        {
          "output_type": "execute_result",
          "data": {
            "text/plain": [
              "   Customer Id  Age  Edu  Years Employed  Income  Card Debt  Other Debt  \\\n",
              "0            1   41    2               6      19      0.124       1.073   \n",
              "1            2   47    1              26     100      4.582       8.218   \n",
              "2            3   33    2              10      57      6.111       5.802   \n",
              "3            4   29    2               4      19      0.681       0.516   \n",
              "4            5   47    1              31     253      9.308       8.908   \n",
              "\n",
              "   Defaulted Address  DebtIncomeRatio  \n",
              "0        0.0  NBA001              6.3  \n",
              "1        0.0  NBA021             12.8  \n",
              "2        1.0  NBA013             20.9  \n",
              "3        0.0  NBA009              6.3  \n",
              "4        0.0  NBA008              7.2  "
            ],
            "text/html": [
              "\n",
              "\n",
              "  <div id=\"df-40d0ed86-1db1-4492-93d0-4f9d7b7a4d8f\">\n",
              "    <div class=\"colab-df-container\">\n",
              "      <div>\n",
              "<style scoped>\n",
              "    .dataframe tbody tr th:only-of-type {\n",
              "        vertical-align: middle;\n",
              "    }\n",
              "\n",
              "    .dataframe tbody tr th {\n",
              "        vertical-align: top;\n",
              "    }\n",
              "\n",
              "    .dataframe thead th {\n",
              "        text-align: right;\n",
              "    }\n",
              "</style>\n",
              "<table border=\"1\" class=\"dataframe\">\n",
              "  <thead>\n",
              "    <tr style=\"text-align: right;\">\n",
              "      <th></th>\n",
              "      <th>Customer Id</th>\n",
              "      <th>Age</th>\n",
              "      <th>Edu</th>\n",
              "      <th>Years Employed</th>\n",
              "      <th>Income</th>\n",
              "      <th>Card Debt</th>\n",
              "      <th>Other Debt</th>\n",
              "      <th>Defaulted</th>\n",
              "      <th>Address</th>\n",
              "      <th>DebtIncomeRatio</th>\n",
              "    </tr>\n",
              "  </thead>\n",
              "  <tbody>\n",
              "    <tr>\n",
              "      <th>0</th>\n",
              "      <td>1</td>\n",
              "      <td>41</td>\n",
              "      <td>2</td>\n",
              "      <td>6</td>\n",
              "      <td>19</td>\n",
              "      <td>0.124</td>\n",
              "      <td>1.073</td>\n",
              "      <td>0.0</td>\n",
              "      <td>NBA001</td>\n",
              "      <td>6.3</td>\n",
              "    </tr>\n",
              "    <tr>\n",
              "      <th>1</th>\n",
              "      <td>2</td>\n",
              "      <td>47</td>\n",
              "      <td>1</td>\n",
              "      <td>26</td>\n",
              "      <td>100</td>\n",
              "      <td>4.582</td>\n",
              "      <td>8.218</td>\n",
              "      <td>0.0</td>\n",
              "      <td>NBA021</td>\n",
              "      <td>12.8</td>\n",
              "    </tr>\n",
              "    <tr>\n",
              "      <th>2</th>\n",
              "      <td>3</td>\n",
              "      <td>33</td>\n",
              "      <td>2</td>\n",
              "      <td>10</td>\n",
              "      <td>57</td>\n",
              "      <td>6.111</td>\n",
              "      <td>5.802</td>\n",
              "      <td>1.0</td>\n",
              "      <td>NBA013</td>\n",
              "      <td>20.9</td>\n",
              "    </tr>\n",
              "    <tr>\n",
              "      <th>3</th>\n",
              "      <td>4</td>\n",
              "      <td>29</td>\n",
              "      <td>2</td>\n",
              "      <td>4</td>\n",
              "      <td>19</td>\n",
              "      <td>0.681</td>\n",
              "      <td>0.516</td>\n",
              "      <td>0.0</td>\n",
              "      <td>NBA009</td>\n",
              "      <td>6.3</td>\n",
              "    </tr>\n",
              "    <tr>\n",
              "      <th>4</th>\n",
              "      <td>5</td>\n",
              "      <td>47</td>\n",
              "      <td>1</td>\n",
              "      <td>31</td>\n",
              "      <td>253</td>\n",
              "      <td>9.308</td>\n",
              "      <td>8.908</td>\n",
              "      <td>0.0</td>\n",
              "      <td>NBA008</td>\n",
              "      <td>7.2</td>\n",
              "    </tr>\n",
              "  </tbody>\n",
              "</table>\n",
              "</div>\n",
              "      <button class=\"colab-df-convert\" onclick=\"convertToInteractive('df-40d0ed86-1db1-4492-93d0-4f9d7b7a4d8f')\"\n",
              "              title=\"Convert this dataframe to an interactive table.\"\n",
              "              style=\"display:none;\">\n",
              "\n",
              "  <svg xmlns=\"http://www.w3.org/2000/svg\" height=\"24px\"viewBox=\"0 0 24 24\"\n",
              "       width=\"24px\">\n",
              "    <path d=\"M0 0h24v24H0V0z\" fill=\"none\"/>\n",
              "    <path d=\"M18.56 5.44l.94 2.06.94-2.06 2.06-.94-2.06-.94-.94-2.06-.94 2.06-2.06.94zm-11 1L8.5 8.5l.94-2.06 2.06-.94-2.06-.94L8.5 2.5l-.94 2.06-2.06.94zm10 10l.94 2.06.94-2.06 2.06-.94-2.06-.94-.94-2.06-.94 2.06-2.06.94z\"/><path d=\"M17.41 7.96l-1.37-1.37c-.4-.4-.92-.59-1.43-.59-.52 0-1.04.2-1.43.59L10.3 9.45l-7.72 7.72c-.78.78-.78 2.05 0 2.83L4 21.41c.39.39.9.59 1.41.59.51 0 1.02-.2 1.41-.59l7.78-7.78 2.81-2.81c.8-.78.8-2.07 0-2.86zM5.41 20L4 18.59l7.72-7.72 1.47 1.35L5.41 20z\"/>\n",
              "  </svg>\n",
              "      </button>\n",
              "\n",
              "\n",
              "\n",
              "    <div id=\"df-b67dfe2f-5efe-47d7-938c-246083dc2ec9\">\n",
              "      <button class=\"colab-df-quickchart\" onclick=\"quickchart('df-b67dfe2f-5efe-47d7-938c-246083dc2ec9')\"\n",
              "              title=\"Suggest charts.\"\n",
              "              style=\"display:none;\">\n",
              "\n",
              "<svg xmlns=\"http://www.w3.org/2000/svg\" height=\"24px\"viewBox=\"0 0 24 24\"\n",
              "     width=\"24px\">\n",
              "    <g>\n",
              "        <path d=\"M19 3H5c-1.1 0-2 .9-2 2v14c0 1.1.9 2 2 2h14c1.1 0 2-.9 2-2V5c0-1.1-.9-2-2-2zM9 17H7v-7h2v7zm4 0h-2V7h2v10zm4 0h-2v-4h2v4z\"/>\n",
              "    </g>\n",
              "</svg>\n",
              "      </button>\n",
              "    </div>\n",
              "\n",
              "<style>\n",
              "  .colab-df-quickchart {\n",
              "    background-color: #E8F0FE;\n",
              "    border: none;\n",
              "    border-radius: 50%;\n",
              "    cursor: pointer;\n",
              "    display: none;\n",
              "    fill: #1967D2;\n",
              "    height: 32px;\n",
              "    padding: 0 0 0 0;\n",
              "    width: 32px;\n",
              "  }\n",
              "\n",
              "  .colab-df-quickchart:hover {\n",
              "    background-color: #E2EBFA;\n",
              "    box-shadow: 0px 1px 2px rgba(60, 64, 67, 0.3), 0px 1px 3px 1px rgba(60, 64, 67, 0.15);\n",
              "    fill: #174EA6;\n",
              "  }\n",
              "\n",
              "  [theme=dark] .colab-df-quickchart {\n",
              "    background-color: #3B4455;\n",
              "    fill: #D2E3FC;\n",
              "  }\n",
              "\n",
              "  [theme=dark] .colab-df-quickchart:hover {\n",
              "    background-color: #434B5C;\n",
              "    box-shadow: 0px 1px 3px 1px rgba(0, 0, 0, 0.15);\n",
              "    filter: drop-shadow(0px 1px 2px rgba(0, 0, 0, 0.3));\n",
              "    fill: #FFFFFF;\n",
              "  }\n",
              "</style>\n",
              "\n",
              "    <script>\n",
              "      async function quickchart(key) {\n",
              "        const containerElement = document.querySelector('#' + key);\n",
              "        const charts = await google.colab.kernel.invokeFunction(\n",
              "            'suggestCharts', [key], {});\n",
              "      }\n",
              "    </script>\n",
              "\n",
              "      <script>\n",
              "\n",
              "function displayQuickchartButton(domScope) {\n",
              "  let quickchartButtonEl =\n",
              "    domScope.querySelector('#df-b67dfe2f-5efe-47d7-938c-246083dc2ec9 button.colab-df-quickchart');\n",
              "  quickchartButtonEl.style.display =\n",
              "    google.colab.kernel.accessAllowed ? 'block' : 'none';\n",
              "}\n",
              "\n",
              "        displayQuickchartButton(document);\n",
              "      </script>\n",
              "      <style>\n",
              "    .colab-df-container {\n",
              "      display:flex;\n",
              "      flex-wrap:wrap;\n",
              "      gap: 12px;\n",
              "    }\n",
              "\n",
              "    .colab-df-convert {\n",
              "      background-color: #E8F0FE;\n",
              "      border: none;\n",
              "      border-radius: 50%;\n",
              "      cursor: pointer;\n",
              "      display: none;\n",
              "      fill: #1967D2;\n",
              "      height: 32px;\n",
              "      padding: 0 0 0 0;\n",
              "      width: 32px;\n",
              "    }\n",
              "\n",
              "    .colab-df-convert:hover {\n",
              "      background-color: #E2EBFA;\n",
              "      box-shadow: 0px 1px 2px rgba(60, 64, 67, 0.3), 0px 1px 3px 1px rgba(60, 64, 67, 0.15);\n",
              "      fill: #174EA6;\n",
              "    }\n",
              "\n",
              "    [theme=dark] .colab-df-convert {\n",
              "      background-color: #3B4455;\n",
              "      fill: #D2E3FC;\n",
              "    }\n",
              "\n",
              "    [theme=dark] .colab-df-convert:hover {\n",
              "      background-color: #434B5C;\n",
              "      box-shadow: 0px 1px 3px 1px rgba(0, 0, 0, 0.15);\n",
              "      filter: drop-shadow(0px 1px 2px rgba(0, 0, 0, 0.3));\n",
              "      fill: #FFFFFF;\n",
              "    }\n",
              "  </style>\n",
              "\n",
              "      <script>\n",
              "        const buttonEl =\n",
              "          document.querySelector('#df-40d0ed86-1db1-4492-93d0-4f9d7b7a4d8f button.colab-df-convert');\n",
              "        buttonEl.style.display =\n",
              "          google.colab.kernel.accessAllowed ? 'block' : 'none';\n",
              "\n",
              "        async function convertToInteractive(key) {\n",
              "          const element = document.querySelector('#df-40d0ed86-1db1-4492-93d0-4f9d7b7a4d8f');\n",
              "          const dataTable =\n",
              "            await google.colab.kernel.invokeFunction('convertToInteractive',\n",
              "                                                     [key], {});\n",
              "          if (!dataTable) return;\n",
              "\n",
              "          const docLinkHtml = 'Like what you see? Visit the ' +\n",
              "            '<a target=\"_blank\" href=https://colab.research.google.com/notebooks/data_table.ipynb>data table notebook</a>'\n",
              "            + ' to learn more about interactive tables.';\n",
              "          element.innerHTML = '';\n",
              "          dataTable['output_type'] = 'display_data';\n",
              "          await google.colab.output.renderOutput(dataTable, element);\n",
              "          const docLink = document.createElement('div');\n",
              "          docLink.innerHTML = docLinkHtml;\n",
              "          element.appendChild(docLink);\n",
              "        }\n",
              "      </script>\n",
              "    </div>\n",
              "  </div>\n"
            ]
          },
          "metadata": {},
          "execution_count": 33
        }
      ]
    },
    {
      "cell_type": "code",
      "source": [
        "# Define K-means model\n",
        "kmeans_model = KMeans(init='k-means++',  max_iter=400, random_state=42)"
      ],
      "metadata": {
        "id": "FmQTRyps1MNU"
      },
      "execution_count": null,
      "outputs": []
    },
    {
      "cell_type": "code",
      "source": [
        "# Train the model\n",
        "data = kmeans_model.fit(df[['Income' ,\t'Card Debt', 'DebtIncomeRatio']])"
      ],
      "metadata": {
        "colab": {
          "base_uri": "https://localhost:8080/"
        },
        "id": "ogJLJwUo184O",
        "outputId": "7bf8ae52-2cad-4ff2-ba00-21d77cf0cd05"
      },
      "execution_count": null,
      "outputs": [
        {
          "output_type": "stream",
          "name": "stderr",
          "text": [
            "/usr/local/lib/python3.10/dist-packages/sklearn/cluster/_kmeans.py:870: FutureWarning:\n",
            "\n",
            "The default value of `n_init` will change from 10 to 'auto' in 1.4. Set the value of `n_init` explicitly to suppress the warning\n",
            "\n"
          ]
        }
      ]
    },
    {
      "cell_type": "code",
      "source": [
        "# Create the K means model for different values of K\n",
        "def try_different_clusters(K, data):\n",
        "\n",
        "    cluster_values = list(range(1, K+1))\n",
        "    inertias=[]\n",
        "\n",
        "    for c in cluster_values:\n",
        "        model = KMeans(n_clusters = c,init='k-means++',max_iter=400,random_state=42)\n",
        "        model.fit(data)\n",
        "        inertias.append(model.inertia_)\n",
        "\n",
        "    return inertias\n"
      ],
      "metadata": {
        "id": "ctEO70VU2isR"
      },
      "execution_count": null,
      "outputs": []
    },
    {
      "cell_type": "code",
      "source": [
        "# Find output for k values between 1 to 12\n",
        "outputs = try_different_clusters(12, df[['Income' ,\t'Card Debt', 'DebtIncomeRatio']])\n",
        "distances = pd.DataFrame({\"clusters\": list(range(1, 13)),\"sum of squared distances\": outputs})"
      ],
      "metadata": {
        "colab": {
          "base_uri": "https://localhost:8080/"
        },
        "id": "M4qOokMv2y_7",
        "outputId": "1c58c664-b2c4-4e78-8cfb-9910d0f832ce"
      },
      "execution_count": null,
      "outputs": [
        {
          "output_type": "stream",
          "name": "stderr",
          "text": [
            "/usr/local/lib/python3.10/dist-packages/sklearn/cluster/_kmeans.py:870: FutureWarning:\n",
            "\n",
            "The default value of `n_init` will change from 10 to 'auto' in 1.4. Set the value of `n_init` explicitly to suppress the warning\n",
            "\n",
            "/usr/local/lib/python3.10/dist-packages/sklearn/cluster/_kmeans.py:870: FutureWarning:\n",
            "\n",
            "The default value of `n_init` will change from 10 to 'auto' in 1.4. Set the value of `n_init` explicitly to suppress the warning\n",
            "\n",
            "/usr/local/lib/python3.10/dist-packages/sklearn/cluster/_kmeans.py:870: FutureWarning:\n",
            "\n",
            "The default value of `n_init` will change from 10 to 'auto' in 1.4. Set the value of `n_init` explicitly to suppress the warning\n",
            "\n",
            "/usr/local/lib/python3.10/dist-packages/sklearn/cluster/_kmeans.py:870: FutureWarning:\n",
            "\n",
            "The default value of `n_init` will change from 10 to 'auto' in 1.4. Set the value of `n_init` explicitly to suppress the warning\n",
            "\n",
            "/usr/local/lib/python3.10/dist-packages/sklearn/cluster/_kmeans.py:870: FutureWarning:\n",
            "\n",
            "The default value of `n_init` will change from 10 to 'auto' in 1.4. Set the value of `n_init` explicitly to suppress the warning\n",
            "\n",
            "/usr/local/lib/python3.10/dist-packages/sklearn/cluster/_kmeans.py:870: FutureWarning:\n",
            "\n",
            "The default value of `n_init` will change from 10 to 'auto' in 1.4. Set the value of `n_init` explicitly to suppress the warning\n",
            "\n",
            "/usr/local/lib/python3.10/dist-packages/sklearn/cluster/_kmeans.py:870: FutureWarning:\n",
            "\n",
            "The default value of `n_init` will change from 10 to 'auto' in 1.4. Set the value of `n_init` explicitly to suppress the warning\n",
            "\n",
            "/usr/local/lib/python3.10/dist-packages/sklearn/cluster/_kmeans.py:870: FutureWarning:\n",
            "\n",
            "The default value of `n_init` will change from 10 to 'auto' in 1.4. Set the value of `n_init` explicitly to suppress the warning\n",
            "\n",
            "/usr/local/lib/python3.10/dist-packages/sklearn/cluster/_kmeans.py:870: FutureWarning:\n",
            "\n",
            "The default value of `n_init` will change from 10 to 'auto' in 1.4. Set the value of `n_init` explicitly to suppress the warning\n",
            "\n",
            "/usr/local/lib/python3.10/dist-packages/sklearn/cluster/_kmeans.py:870: FutureWarning:\n",
            "\n",
            "The default value of `n_init` will change from 10 to 'auto' in 1.4. Set the value of `n_init` explicitly to suppress the warning\n",
            "\n",
            "/usr/local/lib/python3.10/dist-packages/sklearn/cluster/_kmeans.py:870: FutureWarning:\n",
            "\n",
            "The default value of `n_init` will change from 10 to 'auto' in 1.4. Set the value of `n_init` explicitly to suppress the warning\n",
            "\n",
            "/usr/local/lib/python3.10/dist-packages/sklearn/cluster/_kmeans.py:870: FutureWarning:\n",
            "\n",
            "The default value of `n_init` will change from 10 to 'auto' in 1.4. Set the value of `n_init` explicitly to suppress the warning\n",
            "\n"
          ]
        }
      ]
    },
    {
      "cell_type": "code",
      "source": [
        "# Finding optimal number of clusters k\n",
        "figure = go.Figure()\n",
        "figure.add_trace(go.Scatter(x=distances[\"clusters\"], y=distances[\"sum of squared distances\"]))\n",
        "\n",
        "figure.update_layout(xaxis = dict(tick0 = 1,dtick = 1,tickmode = 'linear'),\n",
        "                  xaxis_title=\"Number of clusters\",\n",
        "                  yaxis_title=\"Sum of squared distances\",\n",
        "                  title_text=\"Finding optimal number of clusters using elbow method\")\n",
        "figure.show()"
      ],
      "metadata": {
        "colab": {
          "base_uri": "https://localhost:8080/",
          "height": 542
        },
        "id": "JfnqMsd221oN",
        "outputId": "c03cd9af-7222-4f23-c66c-96fa25c59448"
      },
      "execution_count": null,
      "outputs": [
        {
          "output_type": "display_data",
          "data": {
            "text/html": [
              "<html>\n",
              "<head><meta charset=\"utf-8\" /></head>\n",
              "<body>\n",
              "    <div>            <script src=\"https://cdnjs.cloudflare.com/ajax/libs/mathjax/2.7.5/MathJax.js?config=TeX-AMS-MML_SVG\"></script><script type=\"text/javascript\">if (window.MathJax && window.MathJax.Hub && window.MathJax.Hub.Config) {window.MathJax.Hub.Config({SVG: {font: \"STIX-Web\"}});}</script>                <script type=\"text/javascript\">window.PlotlyConfig = {MathJaxConfig: 'local'};</script>\n",
              "        <script src=\"https://cdn.plot.ly/plotly-2.18.2.min.js\"></script>                <div id=\"df67666f-15d3-4079-89dd-df95d8bb86ff\" class=\"plotly-graph-div\" style=\"height:525px; width:100%;\"></div>            <script type=\"text/javascript\">                                    window.PLOTLYENV=window.PLOTLYENV || {};                                    if (document.getElementById(\"df67666f-15d3-4079-89dd-df95d8bb86ff\")) {                    Plotly.newPlot(                        \"df67666f-15d3-4079-89dd-df95d8bb86ff\",                        [{\"x\":[1,2,3,4,5,6,7,8,9,10,11,12],\"y\":[1303416.2968400496,569881.5018430233,305634.870721181,192788.42316828296,147951.8116960603,113771.00425152617,90698.73251974247,78279.17534891276,66768.53423673476,60709.53045992204,54566.07320800044,49436.429050381106],\"type\":\"scatter\"}],                        {\"template\":{\"data\":{\"histogram2dcontour\":[{\"type\":\"histogram2dcontour\",\"colorbar\":{\"outlinewidth\":0,\"ticks\":\"\"},\"colorscale\":[[0.0,\"#0d0887\"],[0.1111111111111111,\"#46039f\"],[0.2222222222222222,\"#7201a8\"],[0.3333333333333333,\"#9c179e\"],[0.4444444444444444,\"#bd3786\"],[0.5555555555555556,\"#d8576b\"],[0.6666666666666666,\"#ed7953\"],[0.7777777777777778,\"#fb9f3a\"],[0.8888888888888888,\"#fdca26\"],[1.0,\"#f0f921\"]]}],\"choropleth\":[{\"type\":\"choropleth\",\"colorbar\":{\"outlinewidth\":0,\"ticks\":\"\"}}],\"histogram2d\":[{\"type\":\"histogram2d\",\"colorbar\":{\"outlinewidth\":0,\"ticks\":\"\"},\"colorscale\":[[0.0,\"#0d0887\"],[0.1111111111111111,\"#46039f\"],[0.2222222222222222,\"#7201a8\"],[0.3333333333333333,\"#9c179e\"],[0.4444444444444444,\"#bd3786\"],[0.5555555555555556,\"#d8576b\"],[0.6666666666666666,\"#ed7953\"],[0.7777777777777778,\"#fb9f3a\"],[0.8888888888888888,\"#fdca26\"],[1.0,\"#f0f921\"]]}],\"heatmap\":[{\"type\":\"heatmap\",\"colorbar\":{\"outlinewidth\":0,\"ticks\":\"\"},\"colorscale\":[[0.0,\"#0d0887\"],[0.1111111111111111,\"#46039f\"],[0.2222222222222222,\"#7201a8\"],[0.3333333333333333,\"#9c179e\"],[0.4444444444444444,\"#bd3786\"],[0.5555555555555556,\"#d8576b\"],[0.6666666666666666,\"#ed7953\"],[0.7777777777777778,\"#fb9f3a\"],[0.8888888888888888,\"#fdca26\"],[1.0,\"#f0f921\"]]}],\"heatmapgl\":[{\"type\":\"heatmapgl\",\"colorbar\":{\"outlinewidth\":0,\"ticks\":\"\"},\"colorscale\":[[0.0,\"#0d0887\"],[0.1111111111111111,\"#46039f\"],[0.2222222222222222,\"#7201a8\"],[0.3333333333333333,\"#9c179e\"],[0.4444444444444444,\"#bd3786\"],[0.5555555555555556,\"#d8576b\"],[0.6666666666666666,\"#ed7953\"],[0.7777777777777778,\"#fb9f3a\"],[0.8888888888888888,\"#fdca26\"],[1.0,\"#f0f921\"]]}],\"contourcarpet\":[{\"type\":\"contourcarpet\",\"colorbar\":{\"outlinewidth\":0,\"ticks\":\"\"}}],\"contour\":[{\"type\":\"contour\",\"colorbar\":{\"outlinewidth\":0,\"ticks\":\"\"},\"colorscale\":[[0.0,\"#0d0887\"],[0.1111111111111111,\"#46039f\"],[0.2222222222222222,\"#7201a8\"],[0.3333333333333333,\"#9c179e\"],[0.4444444444444444,\"#bd3786\"],[0.5555555555555556,\"#d8576b\"],[0.6666666666666666,\"#ed7953\"],[0.7777777777777778,\"#fb9f3a\"],[0.8888888888888888,\"#fdca26\"],[1.0,\"#f0f921\"]]}],\"surface\":[{\"type\":\"surface\",\"colorbar\":{\"outlinewidth\":0,\"ticks\":\"\"},\"colorscale\":[[0.0,\"#0d0887\"],[0.1111111111111111,\"#46039f\"],[0.2222222222222222,\"#7201a8\"],[0.3333333333333333,\"#9c179e\"],[0.4444444444444444,\"#bd3786\"],[0.5555555555555556,\"#d8576b\"],[0.6666666666666666,\"#ed7953\"],[0.7777777777777778,\"#fb9f3a\"],[0.8888888888888888,\"#fdca26\"],[1.0,\"#f0f921\"]]}],\"mesh3d\":[{\"type\":\"mesh3d\",\"colorbar\":{\"outlinewidth\":0,\"ticks\":\"\"}}],\"scatter\":[{\"fillpattern\":{\"fillmode\":\"overlay\",\"size\":10,\"solidity\":0.2},\"type\":\"scatter\"}],\"parcoords\":[{\"type\":\"parcoords\",\"line\":{\"colorbar\":{\"outlinewidth\":0,\"ticks\":\"\"}}}],\"scatterpolargl\":[{\"type\":\"scatterpolargl\",\"marker\":{\"colorbar\":{\"outlinewidth\":0,\"ticks\":\"\"}}}],\"bar\":[{\"error_x\":{\"color\":\"#2a3f5f\"},\"error_y\":{\"color\":\"#2a3f5f\"},\"marker\":{\"line\":{\"color\":\"#E5ECF6\",\"width\":0.5},\"pattern\":{\"fillmode\":\"overlay\",\"size\":10,\"solidity\":0.2}},\"type\":\"bar\"}],\"scattergeo\":[{\"type\":\"scattergeo\",\"marker\":{\"colorbar\":{\"outlinewidth\":0,\"ticks\":\"\"}}}],\"scatterpolar\":[{\"type\":\"scatterpolar\",\"marker\":{\"colorbar\":{\"outlinewidth\":0,\"ticks\":\"\"}}}],\"histogram\":[{\"marker\":{\"pattern\":{\"fillmode\":\"overlay\",\"size\":10,\"solidity\":0.2}},\"type\":\"histogram\"}],\"scattergl\":[{\"type\":\"scattergl\",\"marker\":{\"colorbar\":{\"outlinewidth\":0,\"ticks\":\"\"}}}],\"scatter3d\":[{\"type\":\"scatter3d\",\"line\":{\"colorbar\":{\"outlinewidth\":0,\"ticks\":\"\"}},\"marker\":{\"colorbar\":{\"outlinewidth\":0,\"ticks\":\"\"}}}],\"scattermapbox\":[{\"type\":\"scattermapbox\",\"marker\":{\"colorbar\":{\"outlinewidth\":0,\"ticks\":\"\"}}}],\"scatterternary\":[{\"type\":\"scatterternary\",\"marker\":{\"colorbar\":{\"outlinewidth\":0,\"ticks\":\"\"}}}],\"scattercarpet\":[{\"type\":\"scattercarpet\",\"marker\":{\"colorbar\":{\"outlinewidth\":0,\"ticks\":\"\"}}}],\"carpet\":[{\"aaxis\":{\"endlinecolor\":\"#2a3f5f\",\"gridcolor\":\"white\",\"linecolor\":\"white\",\"minorgridcolor\":\"white\",\"startlinecolor\":\"#2a3f5f\"},\"baxis\":{\"endlinecolor\":\"#2a3f5f\",\"gridcolor\":\"white\",\"linecolor\":\"white\",\"minorgridcolor\":\"white\",\"startlinecolor\":\"#2a3f5f\"},\"type\":\"carpet\"}],\"table\":[{\"cells\":{\"fill\":{\"color\":\"#EBF0F8\"},\"line\":{\"color\":\"white\"}},\"header\":{\"fill\":{\"color\":\"#C8D4E3\"},\"line\":{\"color\":\"white\"}},\"type\":\"table\"}],\"barpolar\":[{\"marker\":{\"line\":{\"color\":\"#E5ECF6\",\"width\":0.5},\"pattern\":{\"fillmode\":\"overlay\",\"size\":10,\"solidity\":0.2}},\"type\":\"barpolar\"}],\"pie\":[{\"automargin\":true,\"type\":\"pie\"}]},\"layout\":{\"autotypenumbers\":\"strict\",\"colorway\":[\"#636efa\",\"#EF553B\",\"#00cc96\",\"#ab63fa\",\"#FFA15A\",\"#19d3f3\",\"#FF6692\",\"#B6E880\",\"#FF97FF\",\"#FECB52\"],\"font\":{\"color\":\"#2a3f5f\"},\"hovermode\":\"closest\",\"hoverlabel\":{\"align\":\"left\"},\"paper_bgcolor\":\"white\",\"plot_bgcolor\":\"#E5ECF6\",\"polar\":{\"bgcolor\":\"#E5ECF6\",\"angularaxis\":{\"gridcolor\":\"white\",\"linecolor\":\"white\",\"ticks\":\"\"},\"radialaxis\":{\"gridcolor\":\"white\",\"linecolor\":\"white\",\"ticks\":\"\"}},\"ternary\":{\"bgcolor\":\"#E5ECF6\",\"aaxis\":{\"gridcolor\":\"white\",\"linecolor\":\"white\",\"ticks\":\"\"},\"baxis\":{\"gridcolor\":\"white\",\"linecolor\":\"white\",\"ticks\":\"\"},\"caxis\":{\"gridcolor\":\"white\",\"linecolor\":\"white\",\"ticks\":\"\"}},\"coloraxis\":{\"colorbar\":{\"outlinewidth\":0,\"ticks\":\"\"}},\"colorscale\":{\"sequential\":[[0.0,\"#0d0887\"],[0.1111111111111111,\"#46039f\"],[0.2222222222222222,\"#7201a8\"],[0.3333333333333333,\"#9c179e\"],[0.4444444444444444,\"#bd3786\"],[0.5555555555555556,\"#d8576b\"],[0.6666666666666666,\"#ed7953\"],[0.7777777777777778,\"#fb9f3a\"],[0.8888888888888888,\"#fdca26\"],[1.0,\"#f0f921\"]],\"sequentialminus\":[[0.0,\"#0d0887\"],[0.1111111111111111,\"#46039f\"],[0.2222222222222222,\"#7201a8\"],[0.3333333333333333,\"#9c179e\"],[0.4444444444444444,\"#bd3786\"],[0.5555555555555556,\"#d8576b\"],[0.6666666666666666,\"#ed7953\"],[0.7777777777777778,\"#fb9f3a\"],[0.8888888888888888,\"#fdca26\"],[1.0,\"#f0f921\"]],\"diverging\":[[0,\"#8e0152\"],[0.1,\"#c51b7d\"],[0.2,\"#de77ae\"],[0.3,\"#f1b6da\"],[0.4,\"#fde0ef\"],[0.5,\"#f7f7f7\"],[0.6,\"#e6f5d0\"],[0.7,\"#b8e186\"],[0.8,\"#7fbc41\"],[0.9,\"#4d9221\"],[1,\"#276419\"]]},\"xaxis\":{\"gridcolor\":\"white\",\"linecolor\":\"white\",\"ticks\":\"\",\"title\":{\"standoff\":15},\"zerolinecolor\":\"white\",\"automargin\":true,\"zerolinewidth\":2},\"yaxis\":{\"gridcolor\":\"white\",\"linecolor\":\"white\",\"ticks\":\"\",\"title\":{\"standoff\":15},\"zerolinecolor\":\"white\",\"automargin\":true,\"zerolinewidth\":2},\"scene\":{\"xaxis\":{\"backgroundcolor\":\"#E5ECF6\",\"gridcolor\":\"white\",\"linecolor\":\"white\",\"showbackground\":true,\"ticks\":\"\",\"zerolinecolor\":\"white\",\"gridwidth\":2},\"yaxis\":{\"backgroundcolor\":\"#E5ECF6\",\"gridcolor\":\"white\",\"linecolor\":\"white\",\"showbackground\":true,\"ticks\":\"\",\"zerolinecolor\":\"white\",\"gridwidth\":2},\"zaxis\":{\"backgroundcolor\":\"#E5ECF6\",\"gridcolor\":\"white\",\"linecolor\":\"white\",\"showbackground\":true,\"ticks\":\"\",\"zerolinecolor\":\"white\",\"gridwidth\":2}},\"shapedefaults\":{\"line\":{\"color\":\"#2a3f5f\"}},\"annotationdefaults\":{\"arrowcolor\":\"#2a3f5f\",\"arrowhead\":0,\"arrowwidth\":1},\"geo\":{\"bgcolor\":\"white\",\"landcolor\":\"#E5ECF6\",\"subunitcolor\":\"white\",\"showland\":true,\"showlakes\":true,\"lakecolor\":\"white\"},\"title\":{\"x\":0.05},\"mapbox\":{\"style\":\"light\"}}},\"xaxis\":{\"tick0\":1,\"dtick\":1,\"tickmode\":\"linear\",\"title\":{\"text\":\"Number of clusters\"}},\"title\":{\"text\":\"Finding optimal number of clusters using elbow method\"},\"yaxis\":{\"title\":{\"text\":\"Sum of squared distances\"}}},                        {\"responsive\": true}                    ).then(function(){\n",
              "                            \n",
              "var gd = document.getElementById('df67666f-15d3-4079-89dd-df95d8bb86ff');\n",
              "var x = new MutationObserver(function (mutations, observer) {{\n",
              "        var display = window.getComputedStyle(gd).display;\n",
              "        if (!display || display === 'none') {{\n",
              "            console.log([gd, 'removed!']);\n",
              "            Plotly.purge(gd);\n",
              "            observer.disconnect();\n",
              "        }}\n",
              "}});\n",
              "\n",
              "// Listen for the removal of the full notebook cells\n",
              "var notebookContainer = gd.closest('#notebook-container');\n",
              "if (notebookContainer) {{\n",
              "    x.observe(notebookContainer, {childList: true});\n",
              "}}\n",
              "\n",
              "// Listen for the clearing of the current output cell\n",
              "var outputEl = gd.closest('.output');\n",
              "if (outputEl) {{\n",
              "    x.observe(outputEl, {childList: true});\n",
              "}}\n",
              "\n",
              "                        })                };                            </script>        </div>\n",
              "</body>\n",
              "</html>"
            ]
          },
          "metadata": {}
        }
      ]
    },
    {
      "cell_type": "code",
      "source": [
        "# Re-Train K means model with k=5\n",
        "kmeans_model_new = KMeans(n_clusters = 5,init='k-means++',max_iter=400,random_state=42)\n",
        "\n",
        "kmeans_model_new.fit_predict(df[['Income' ,\t'Card Debt', 'DebtIncomeRatio']])\n"
      ],
      "metadata": {
        "colab": {
          "base_uri": "https://localhost:8080/"
        },
        "id": "3bKwgLQF2710",
        "outputId": "4cbfc31d-da28-4b8c-f1fc-c9017aa58974"
      },
      "execution_count": null,
      "outputs": [
        {
          "output_type": "stream",
          "name": "stderr",
          "text": [
            "/usr/local/lib/python3.10/dist-packages/sklearn/cluster/_kmeans.py:870: FutureWarning:\n",
            "\n",
            "The default value of `n_init` will change from 10 to 'auto' in 1.4. Set the value of `n_init` explicitly to suppress the warning\n",
            "\n"
          ]
        },
        {
          "output_type": "execute_result",
          "data": {
            "text/plain": [
              "array([0, 2, 3, 0, 4, 2, 3, 2, 0, 1, 2, 3, 0, 0, 0, 0, 0, 0, 3, 0, 0, 3,\n",
              "       3, 2, 1, 2, 0, 3, 3, 3, 2, 3, 3, 0, 3, 3, 3, 0, 0, 1, 0, 1, 0, 1,\n",
              "       0, 2, 0, 0, 0, 3, 2, 0, 0, 2, 2, 0, 0, 0, 2, 3, 3, 0, 2, 2, 0, 3,\n",
              "       2, 0, 0, 0, 3, 2, 2, 3, 0, 0, 3, 0, 1, 3, 2, 2, 1, 3, 3, 0, 0, 0,\n",
              "       0, 0, 2, 0, 0, 0, 0, 3, 0, 0, 0, 0, 0, 1, 3, 3, 0, 3, 0, 0, 3, 2,\n",
              "       3, 0, 3, 0, 0, 0, 0, 3, 2, 0, 0, 3, 0, 3, 3, 2, 3, 0, 0, 0, 3, 3,\n",
              "       0, 0, 0, 0, 2, 0, 0, 0, 3, 0, 3, 0, 2, 0, 3, 3, 3, 0, 3, 3, 0, 0,\n",
              "       2, 3, 1, 2, 0, 3, 0, 3, 2, 3, 0, 0, 3, 0, 0, 3, 2, 0, 0, 3, 0, 0,\n",
              "       3, 0, 3, 2, 3, 3, 0, 1, 0, 3, 0, 0, 3, 2, 0, 0, 2, 0, 2, 0, 0, 2,\n",
              "       4, 0, 1, 0, 0, 0, 0, 3, 0, 4, 2, 0, 0, 3, 3, 2, 0, 0, 2, 2, 3, 3,\n",
              "       0, 1, 0, 0, 0, 0, 2, 0, 0, 3, 0, 0, 3, 0, 2, 0, 3, 0, 3, 0, 0, 3,\n",
              "       0, 0, 0, 1, 2, 3, 3, 0, 0, 3, 0, 0, 2, 3, 3, 0, 0, 0, 0, 2, 3, 3,\n",
              "       2, 3, 3, 2, 0, 3, 0, 0, 3, 3, 0, 0, 0, 3, 0, 0, 0, 1, 1, 0, 2, 0,\n",
              "       2, 0, 2, 3, 0, 3, 0, 3, 0, 0, 0, 0, 0, 2, 2, 2, 0, 0, 0, 3, 3, 0,\n",
              "       3, 3, 3, 0, 0, 0, 3, 0, 0, 0, 3, 0, 2, 0, 2, 0, 0, 3, 0, 0, 2, 3,\n",
              "       3, 1, 0, 0, 3, 0, 0, 2, 0, 3, 3, 3, 0, 0, 2, 3, 0, 2, 0, 0, 1, 0,\n",
              "       3, 0, 0, 0, 2, 0, 0, 0, 1, 0, 0, 0, 2, 0, 2, 1, 1, 3, 0, 0, 2, 0,\n",
              "       0, 0, 0, 3, 0, 0, 0, 0, 0, 0, 1, 0, 2, 0, 3, 0, 0, 3, 3, 3, 0, 3,\n",
              "       0, 1, 3, 0, 0, 0, 0, 0, 0, 3, 0, 3, 2, 0, 3, 3, 3, 0, 0, 0, 2, 0,\n",
              "       3, 0, 3, 2, 0, 0, 2, 0, 0, 0, 3, 0, 3, 0, 0, 0, 2, 0, 0, 0, 2, 3,\n",
              "       3, 3, 0, 4, 3, 3, 3, 3, 3, 3, 2, 0, 0, 0, 1, 0, 0, 0, 0, 3, 3, 1,\n",
              "       0, 0, 0, 0, 2, 0, 3, 3, 2, 3, 3, 2, 3, 0, 3, 0, 0, 0, 3, 0, 2, 0,\n",
              "       0, 0, 3, 2, 0, 0, 0, 2, 0, 2, 0, 0, 0, 2, 3, 0, 3, 0, 1, 1, 0, 3,\n",
              "       0, 0, 2, 0, 0, 3, 0, 1, 3, 0, 0, 3, 0, 2, 3, 0, 0, 0, 3, 0, 0, 3,\n",
              "       0, 0, 0, 0, 4, 2, 0, 3, 0, 0, 0, 3, 1, 3, 3, 3, 3, 2, 3, 0, 2, 0,\n",
              "       3, 4, 0, 1, 3, 0, 4, 0, 0, 0, 3, 3, 0, 3, 0, 3, 2, 0, 2, 0, 3, 4,\n",
              "       0, 0, 3, 0, 0, 0, 0, 3, 3, 3, 3, 3, 3, 0, 3, 0, 0, 2, 0, 2, 3, 3,\n",
              "       0, 0, 0, 0, 2, 3, 0, 3, 0, 2, 0, 3, 0, 0, 0, 3, 0, 0, 0, 3, 3, 3,\n",
              "       3, 0, 3, 0, 2, 0, 0, 0, 0, 0, 0, 0, 2, 1, 0, 0, 2, 3, 1, 0, 0, 2,\n",
              "       0, 2, 0, 0, 1, 0, 2, 3, 1, 0, 0, 0, 0, 0, 1, 2, 0, 0, 0, 3, 2, 3,\n",
              "       0, 3, 2, 1, 0, 3, 2, 0, 0, 0, 3, 3, 4, 0, 0, 1, 3, 3, 0, 0, 3, 0,\n",
              "       3, 2, 0, 3, 0, 2, 0, 0, 0, 3, 0, 3, 0, 3, 2, 0, 0, 0, 0, 3, 0, 0,\n",
              "       0, 2, 0, 0, 2, 0, 2, 0, 2, 1, 3, 0, 0, 1, 3, 2, 0, 0, 0, 0, 3, 1,\n",
              "       3, 0, 0, 3, 2, 2, 3, 3, 1, 3, 0, 3, 3, 3, 0, 2, 0, 0, 3, 3, 1, 3,\n",
              "       0, 3, 0, 0, 3, 0, 0, 0, 0, 0, 2, 0, 2, 3, 0, 2, 0, 2, 2, 3, 0, 2,\n",
              "       0, 0, 0, 3, 3, 3, 2, 0, 3, 0, 3, 3, 3, 3, 2, 0, 3, 0, 0, 3, 3, 4,\n",
              "       2, 2, 0, 0, 0, 0, 0, 0, 0, 2, 0, 0, 3, 0, 3, 3, 2, 0, 0, 0, 0, 3,\n",
              "       0, 3, 0, 0, 0, 3, 0, 3, 0, 0, 0, 1, 3, 0, 0, 3, 3, 0, 3, 0, 3, 3,\n",
              "       0, 0, 0, 0, 0, 2, 3, 3, 3, 0, 0, 0, 0, 2], dtype=int32)"
            ]
          },
          "metadata": {},
          "execution_count": 41
        }
      ]
    },
    {
      "cell_type": "code",
      "source": [
        "# Create data arrays\n",
        "cluster_centers = kmeans_model_new.cluster_centers_\n",
        "data = np.expm1(cluster_centers)\n",
        "points = np.append(data, cluster_centers, axis=1)\n",
        "points"
      ],
      "metadata": {
        "colab": {
          "base_uri": "https://localhost:8080/"
        },
        "id": "zQbynPSK3Btt",
        "outputId": "c407c271-1903-4857-8686-20b0cde31248"
      },
      "execution_count": null,
      "outputs": [
        {
          "output_type": "execute_result",
          "data": {
            "text/plain": [
              "array([[4.33231956e+010, 1.26180512e+000, 2.75784880e+004,\n",
              "        2.44919540e+001, 8.16163218e-001, 1.02248276e+001],\n",
              "       [1.15089603e+058, 6.54438442e+001, 1.30133715e+004,\n",
              "        1.33690476e+002, 4.19635714e+000, 9.47380952e+000],\n",
              "       [6.27033726e+033, 1.71279561e+001, 5.11782487e+004,\n",
              "        7.78211382e+001, 2.89745528e+000, 1.08430894e+001],\n",
              "       [1.34756349e+020, 3.74678082e+000, 2.06392844e+004,\n",
              "        4.63500000e+001, 1.55746667e+000, 9.93500000e+000],\n",
              "       [4.47069608e+117, 2.65346923e+003, 3.67654247e+003,\n",
              "        2.70900000e+002, 7.88400000e+000, 8.21000000e+000]])"
            ]
          },
          "metadata": {},
          "execution_count": 42
        }
      ]
    },
    {
      "cell_type": "code",
      "source": [
        "# Add \"clusters\" to customers data\n",
        "points = np.append(points, [[0], [1], [2], [3], [4]], axis=1)\n",
        "df[\"clusters\"] = kmeans_model_new.labels_"
      ],
      "metadata": {
        "id": "DHLIyq4s3Joa"
      },
      "execution_count": null,
      "outputs": []
    },
    {
      "cell_type": "code",
      "source": [
        "df.head()"
      ],
      "metadata": {
        "colab": {
          "base_uri": "https://localhost:8080/",
          "height": 206
        },
        "id": "hwhhonry3Poo",
        "outputId": "eee54196-7f3f-4b5b-cc4a-916d28678bd9"
      },
      "execution_count": null,
      "outputs": [
        {
          "output_type": "execute_result",
          "data": {
            "text/plain": [
              "   Customer Id  Age  Edu  Years Employed  Income  Card Debt  Other Debt  \\\n",
              "0            1   41    2               6      19      0.124       1.073   \n",
              "1            2   47    1              26     100      4.582       8.218   \n",
              "2            3   33    2              10      57      6.111       5.802   \n",
              "3            4   29    2               4      19      0.681       0.516   \n",
              "4            5   47    1              31     253      9.308       8.908   \n",
              "\n",
              "   Defaulted Address  DebtIncomeRatio  clusters  \n",
              "0        0.0  NBA001              6.3         0  \n",
              "1        0.0  NBA021             12.8         2  \n",
              "2        1.0  NBA013             20.9         3  \n",
              "3        0.0  NBA009              6.3         0  \n",
              "4        0.0  NBA008              7.2         4  "
            ],
            "text/html": [
              "\n",
              "\n",
              "  <div id=\"df-1b77d02f-e333-4761-a9a8-5534134b2c75\">\n",
              "    <div class=\"colab-df-container\">\n",
              "      <div>\n",
              "<style scoped>\n",
              "    .dataframe tbody tr th:only-of-type {\n",
              "        vertical-align: middle;\n",
              "    }\n",
              "\n",
              "    .dataframe tbody tr th {\n",
              "        vertical-align: top;\n",
              "    }\n",
              "\n",
              "    .dataframe thead th {\n",
              "        text-align: right;\n",
              "    }\n",
              "</style>\n",
              "<table border=\"1\" class=\"dataframe\">\n",
              "  <thead>\n",
              "    <tr style=\"text-align: right;\">\n",
              "      <th></th>\n",
              "      <th>Customer Id</th>\n",
              "      <th>Age</th>\n",
              "      <th>Edu</th>\n",
              "      <th>Years Employed</th>\n",
              "      <th>Income</th>\n",
              "      <th>Card Debt</th>\n",
              "      <th>Other Debt</th>\n",
              "      <th>Defaulted</th>\n",
              "      <th>Address</th>\n",
              "      <th>DebtIncomeRatio</th>\n",
              "      <th>clusters</th>\n",
              "    </tr>\n",
              "  </thead>\n",
              "  <tbody>\n",
              "    <tr>\n",
              "      <th>0</th>\n",
              "      <td>1</td>\n",
              "      <td>41</td>\n",
              "      <td>2</td>\n",
              "      <td>6</td>\n",
              "      <td>19</td>\n",
              "      <td>0.124</td>\n",
              "      <td>1.073</td>\n",
              "      <td>0.0</td>\n",
              "      <td>NBA001</td>\n",
              "      <td>6.3</td>\n",
              "      <td>0</td>\n",
              "    </tr>\n",
              "    <tr>\n",
              "      <th>1</th>\n",
              "      <td>2</td>\n",
              "      <td>47</td>\n",
              "      <td>1</td>\n",
              "      <td>26</td>\n",
              "      <td>100</td>\n",
              "      <td>4.582</td>\n",
              "      <td>8.218</td>\n",
              "      <td>0.0</td>\n",
              "      <td>NBA021</td>\n",
              "      <td>12.8</td>\n",
              "      <td>2</td>\n",
              "    </tr>\n",
              "    <tr>\n",
              "      <th>2</th>\n",
              "      <td>3</td>\n",
              "      <td>33</td>\n",
              "      <td>2</td>\n",
              "      <td>10</td>\n",
              "      <td>57</td>\n",
              "      <td>6.111</td>\n",
              "      <td>5.802</td>\n",
              "      <td>1.0</td>\n",
              "      <td>NBA013</td>\n",
              "      <td>20.9</td>\n",
              "      <td>3</td>\n",
              "    </tr>\n",
              "    <tr>\n",
              "      <th>3</th>\n",
              "      <td>4</td>\n",
              "      <td>29</td>\n",
              "      <td>2</td>\n",
              "      <td>4</td>\n",
              "      <td>19</td>\n",
              "      <td>0.681</td>\n",
              "      <td>0.516</td>\n",
              "      <td>0.0</td>\n",
              "      <td>NBA009</td>\n",
              "      <td>6.3</td>\n",
              "      <td>0</td>\n",
              "    </tr>\n",
              "    <tr>\n",
              "      <th>4</th>\n",
              "      <td>5</td>\n",
              "      <td>47</td>\n",
              "      <td>1</td>\n",
              "      <td>31</td>\n",
              "      <td>253</td>\n",
              "      <td>9.308</td>\n",
              "      <td>8.908</td>\n",
              "      <td>0.0</td>\n",
              "      <td>NBA008</td>\n",
              "      <td>7.2</td>\n",
              "      <td>4</td>\n",
              "    </tr>\n",
              "  </tbody>\n",
              "</table>\n",
              "</div>\n",
              "      <button class=\"colab-df-convert\" onclick=\"convertToInteractive('df-1b77d02f-e333-4761-a9a8-5534134b2c75')\"\n",
              "              title=\"Convert this dataframe to an interactive table.\"\n",
              "              style=\"display:none;\">\n",
              "\n",
              "  <svg xmlns=\"http://www.w3.org/2000/svg\" height=\"24px\"viewBox=\"0 0 24 24\"\n",
              "       width=\"24px\">\n",
              "    <path d=\"M0 0h24v24H0V0z\" fill=\"none\"/>\n",
              "    <path d=\"M18.56 5.44l.94 2.06.94-2.06 2.06-.94-2.06-.94-.94-2.06-.94 2.06-2.06.94zm-11 1L8.5 8.5l.94-2.06 2.06-.94-2.06-.94L8.5 2.5l-.94 2.06-2.06.94zm10 10l.94 2.06.94-2.06 2.06-.94-2.06-.94-.94-2.06-.94 2.06-2.06.94z\"/><path d=\"M17.41 7.96l-1.37-1.37c-.4-.4-.92-.59-1.43-.59-.52 0-1.04.2-1.43.59L10.3 9.45l-7.72 7.72c-.78.78-.78 2.05 0 2.83L4 21.41c.39.39.9.59 1.41.59.51 0 1.02-.2 1.41-.59l7.78-7.78 2.81-2.81c.8-.78.8-2.07 0-2.86zM5.41 20L4 18.59l7.72-7.72 1.47 1.35L5.41 20z\"/>\n",
              "  </svg>\n",
              "      </button>\n",
              "\n",
              "\n",
              "\n",
              "    <div id=\"df-22a7c314-0514-4c4d-bd12-ff2505ab595d\">\n",
              "      <button class=\"colab-df-quickchart\" onclick=\"quickchart('df-22a7c314-0514-4c4d-bd12-ff2505ab595d')\"\n",
              "              title=\"Suggest charts.\"\n",
              "              style=\"display:none;\">\n",
              "\n",
              "<svg xmlns=\"http://www.w3.org/2000/svg\" height=\"24px\"viewBox=\"0 0 24 24\"\n",
              "     width=\"24px\">\n",
              "    <g>\n",
              "        <path d=\"M19 3H5c-1.1 0-2 .9-2 2v14c0 1.1.9 2 2 2h14c1.1 0 2-.9 2-2V5c0-1.1-.9-2-2-2zM9 17H7v-7h2v7zm4 0h-2V7h2v10zm4 0h-2v-4h2v4z\"/>\n",
              "    </g>\n",
              "</svg>\n",
              "      </button>\n",
              "    </div>\n",
              "\n",
              "<style>\n",
              "  .colab-df-quickchart {\n",
              "    background-color: #E8F0FE;\n",
              "    border: none;\n",
              "    border-radius: 50%;\n",
              "    cursor: pointer;\n",
              "    display: none;\n",
              "    fill: #1967D2;\n",
              "    height: 32px;\n",
              "    padding: 0 0 0 0;\n",
              "    width: 32px;\n",
              "  }\n",
              "\n",
              "  .colab-df-quickchart:hover {\n",
              "    background-color: #E2EBFA;\n",
              "    box-shadow: 0px 1px 2px rgba(60, 64, 67, 0.3), 0px 1px 3px 1px rgba(60, 64, 67, 0.15);\n",
              "    fill: #174EA6;\n",
              "  }\n",
              "\n",
              "  [theme=dark] .colab-df-quickchart {\n",
              "    background-color: #3B4455;\n",
              "    fill: #D2E3FC;\n",
              "  }\n",
              "\n",
              "  [theme=dark] .colab-df-quickchart:hover {\n",
              "    background-color: #434B5C;\n",
              "    box-shadow: 0px 1px 3px 1px rgba(0, 0, 0, 0.15);\n",
              "    filter: drop-shadow(0px 1px 2px rgba(0, 0, 0, 0.3));\n",
              "    fill: #FFFFFF;\n",
              "  }\n",
              "</style>\n",
              "\n",
              "    <script>\n",
              "      async function quickchart(key) {\n",
              "        const containerElement = document.querySelector('#' + key);\n",
              "        const charts = await google.colab.kernel.invokeFunction(\n",
              "            'suggestCharts', [key], {});\n",
              "      }\n",
              "    </script>\n",
              "\n",
              "      <script>\n",
              "\n",
              "function displayQuickchartButton(domScope) {\n",
              "  let quickchartButtonEl =\n",
              "    domScope.querySelector('#df-22a7c314-0514-4c4d-bd12-ff2505ab595d button.colab-df-quickchart');\n",
              "  quickchartButtonEl.style.display =\n",
              "    google.colab.kernel.accessAllowed ? 'block' : 'none';\n",
              "}\n",
              "\n",
              "        displayQuickchartButton(document);\n",
              "      </script>\n",
              "      <style>\n",
              "    .colab-df-container {\n",
              "      display:flex;\n",
              "      flex-wrap:wrap;\n",
              "      gap: 12px;\n",
              "    }\n",
              "\n",
              "    .colab-df-convert {\n",
              "      background-color: #E8F0FE;\n",
              "      border: none;\n",
              "      border-radius: 50%;\n",
              "      cursor: pointer;\n",
              "      display: none;\n",
              "      fill: #1967D2;\n",
              "      height: 32px;\n",
              "      padding: 0 0 0 0;\n",
              "      width: 32px;\n",
              "    }\n",
              "\n",
              "    .colab-df-convert:hover {\n",
              "      background-color: #E2EBFA;\n",
              "      box-shadow: 0px 1px 2px rgba(60, 64, 67, 0.3), 0px 1px 3px 1px rgba(60, 64, 67, 0.15);\n",
              "      fill: #174EA6;\n",
              "    }\n",
              "\n",
              "    [theme=dark] .colab-df-convert {\n",
              "      background-color: #3B4455;\n",
              "      fill: #D2E3FC;\n",
              "    }\n",
              "\n",
              "    [theme=dark] .colab-df-convert:hover {\n",
              "      background-color: #434B5C;\n",
              "      box-shadow: 0px 1px 3px 1px rgba(0, 0, 0, 0.15);\n",
              "      filter: drop-shadow(0px 1px 2px rgba(0, 0, 0, 0.3));\n",
              "      fill: #FFFFFF;\n",
              "    }\n",
              "  </style>\n",
              "\n",
              "      <script>\n",
              "        const buttonEl =\n",
              "          document.querySelector('#df-1b77d02f-e333-4761-a9a8-5534134b2c75 button.colab-df-convert');\n",
              "        buttonEl.style.display =\n",
              "          google.colab.kernel.accessAllowed ? 'block' : 'none';\n",
              "\n",
              "        async function convertToInteractive(key) {\n",
              "          const element = document.querySelector('#df-1b77d02f-e333-4761-a9a8-5534134b2c75');\n",
              "          const dataTable =\n",
              "            await google.colab.kernel.invokeFunction('convertToInteractive',\n",
              "                                                     [key], {});\n",
              "          if (!dataTable) return;\n",
              "\n",
              "          const docLinkHtml = 'Like what you see? Visit the ' +\n",
              "            '<a target=\"_blank\" href=https://colab.research.google.com/notebooks/data_table.ipynb>data table notebook</a>'\n",
              "            + ' to learn more about interactive tables.';\n",
              "          element.innerHTML = '';\n",
              "          dataTable['output_type'] = 'display_data';\n",
              "          await google.colab.output.renderOutput(dataTable, element);\n",
              "          const docLink = document.createElement('div');\n",
              "          docLink.innerHTML = docLinkHtml;\n",
              "          element.appendChild(docLink);\n",
              "        }\n",
              "      </script>\n",
              "    </div>\n",
              "  </div>\n"
            ]
          },
          "metadata": {},
          "execution_count": 44
        }
      ]
    },
    {
      "cell_type": "code",
      "source": [
        "# visualize clusters\n",
        "figure = px.scatter_3d(df,\n",
        "                    color='clusters',\n",
        "                    x=\"Income\",\n",
        "                    y=\"Card Debt\",\n",
        "                    z=\"DebtIncomeRatio\",\n",
        "                    category_orders = {\"clusters\": [\"0\", \"1\", \"2\", \"3\", \"4\"]}\n",
        "                    )\n",
        "figure.update_layout()\n",
        "figure.show()\n",
        "\n"
      ],
      "metadata": {
        "colab": {
          "base_uri": "https://localhost:8080/",
          "height": 542
        },
        "id": "NzowX_fh3VrU",
        "outputId": "e8c17d9c-a6fd-4fc5-f236-cbad186f15eb"
      },
      "execution_count": null,
      "outputs": [
        {
          "output_type": "display_data",
          "data": {
            "text/html": [
              "<html>\n",
              "<head><meta charset=\"utf-8\" /></head>\n",
              "<body>\n",
              "    <div>            <script src=\"https://cdnjs.cloudflare.com/ajax/libs/mathjax/2.7.5/MathJax.js?config=TeX-AMS-MML_SVG\"></script><script type=\"text/javascript\">if (window.MathJax && window.MathJax.Hub && window.MathJax.Hub.Config) {window.MathJax.Hub.Config({SVG: {font: \"STIX-Web\"}});}</script>                <script type=\"text/javascript\">window.PlotlyConfig = {MathJaxConfig: 'local'};</script>\n",
              "        <script src=\"https://cdn.plot.ly/plotly-2.18.2.min.js\"></script>                <div id=\"beb00432-7cb6-4693-b40d-956672b43f32\" class=\"plotly-graph-div\" style=\"height:525px; width:100%;\"></div>            <script type=\"text/javascript\">                                    window.PLOTLYENV=window.PLOTLYENV || {};                                    if (document.getElementById(\"beb00432-7cb6-4693-b40d-956672b43f32\")) {                    Plotly.newPlot(                        \"beb00432-7cb6-4693-b40d-956672b43f32\",                        [{\"hovertemplate\":\"Income=%{x}<br>Card Debt=%{y}<br>DebtIncomeRatio=%{z}<br>clusters=%{marker.color}<extra></extra>\",\"legendgroup\":\"\",\"marker\":{\"color\":[0,2,3,0,4,2,3,2,0,1,2,3,0,0,0,0,0,0,3,0,0,3,3,2,1,2,0,3,3,3,2,3,3,0,3,3,3,0,0,1,0,1,0,1,0,2,0,0,0,3,2,0,0,2,2,0,0,0,2,3,3,0,2,2,0,3,2,0,0,0,3,2,2,3,0,0,3,0,1,3,2,2,1,3,3,0,0,0,0,0,2,0,0,0,0,3,0,0,0,0,0,1,3,3,0,3,0,0,3,2,3,0,3,0,0,0,0,3,2,0,0,3,0,3,3,2,3,0,0,0,3,3,0,0,0,0,2,0,0,0,3,0,3,0,2,0,3,3,3,0,3,3,0,0,2,3,1,2,0,3,0,3,2,3,0,0,3,0,0,3,2,0,0,3,0,0,3,0,3,2,3,3,0,1,0,3,0,0,3,2,0,0,2,0,2,0,0,2,4,0,1,0,0,0,0,3,0,4,2,0,0,3,3,2,0,0,2,2,3,3,0,1,0,0,0,0,2,0,0,3,0,0,3,0,2,0,3,0,3,0,0,3,0,0,0,1,2,3,3,0,0,3,0,0,2,3,3,0,0,0,0,2,3,3,2,3,3,2,0,3,0,0,3,3,0,0,0,3,0,0,0,1,1,0,2,0,2,0,2,3,0,3,0,3,0,0,0,0,0,2,2,2,0,0,0,3,3,0,3,3,3,0,0,0,3,0,0,0,3,0,2,0,2,0,0,3,0,0,2,3,3,1,0,0,3,0,0,2,0,3,3,3,0,0,2,3,0,2,0,0,1,0,3,0,0,0,2,0,0,0,1,0,0,0,2,0,2,1,1,3,0,0,2,0,0,0,0,3,0,0,0,0,0,0,1,0,2,0,3,0,0,3,3,3,0,3,0,1,3,0,0,0,0,0,0,3,0,3,2,0,3,3,3,0,0,0,2,0,3,0,3,2,0,0,2,0,0,0,3,0,3,0,0,0,2,0,0,0,2,3,3,3,0,4,3,3,3,3,3,3,2,0,0,0,1,0,0,0,0,3,3,1,0,0,0,0,2,0,3,3,2,3,3,2,3,0,3,0,0,0,3,0,2,0,0,0,3,2,0,0,0,2,0,2,0,0,0,2,3,0,3,0,1,1,0,3,0,0,2,0,0,3,0,1,3,0,0,3,0,2,3,0,0,0,3,0,0,3,0,0,0,0,4,2,0,3,0,0,0,3,1,3,3,3,3,2,3,0,2,0,3,4,0,1,3,0,4,0,0,0,3,3,0,3,0,3,2,0,2,0,3,4,0,0,3,0,0,0,0,3,3,3,3,3,3,0,3,0,0,2,0,2,3,3,0,0,0,0,2,3,0,3,0,2,0,3,0,0,0,3,0,0,0,3,3,3,3,0,3,0,2,0,0,0,0,0,0,0,2,1,0,0,2,3,1,0,0,2,0,2,0,0,1,0,2,3,1,0,0,0,0,0,1,2,0,0,0,3,2,3,0,3,2,1,0,3,2,0,0,0,3,3,4,0,0,1,3,3,0,0,3,0,3,2,0,3,0,2,0,0,0,3,0,3,0,3,2,0,0,0,0,3,0,0,0,2,0,0,2,0,2,0,2,1,3,0,0,1,3,2,0,0,0,0,3,1,3,0,0,3,2,2,3,3,1,3,0,3,3,3,0,2,0,0,3,3,1,3,0,3,0,0,3,0,0,0,0,0,2,0,2,3,0,2,0,2,2,3,0,2,0,0,0,3,3,3,2,0,3,0,3,3,3,3,2,0,3,0,0,3,3,4,2,2,0,0,0,0,0,0,0,2,0,0,3,0,3,3,2,0,0,0,0,3,0,3,0,0,0,3,0,3,0,0,0,1,3,0,0,3,3,0,3,0,3,3,0,0,0,0,0,2,3,3,3,0,0,0,0,2],\"coloraxis\":\"coloraxis\",\"symbol\":\"circle\"},\"mode\":\"markers\",\"name\":\"\",\"scene\":\"scene\",\"showlegend\":false,\"x\":[19,100,57,19,253,81,56,64,18,115,88,40,18,30,20,16,17,26,61,32,25,43,47,77,123,66,21,38,59,45,100,55,42,28,45,37,37,18,18,126,14,113,34,177,27,84,14,21,19,61,81,33,19,66,70,25,20,26,64,36,60,34,67,74,20,44,79,27,23,14,61,75,98,42,33,18,45,21,145,55,68,65,157,42,51,15,25,16,31,32,75,33,21,20,27,49,27,34,28,20,33,126,60,48,22,50,32,27,54,82,53,32,39,16,23,32,18,46,63,26,21,37,32,53,42,72,47,25,21,16,36,57,25,23,25,29,86,19,31,35,41,21,40,23,68,30,58,43,42,26,37,41,31,21,65,37,113,101,24,59,20,39,82,47,22,32,54,27,24,45,89,20,28,45,27,27,55,22,36,89,46,40,21,129,15,45,24,24,41,73,27,30,75,31,73,30,16,64,221,26,113,21,25,21,27,44,26,242,95,23,25,48,57,78,24,16,68,64,45,60,21,116,30,23,21,23,102,31,29,52,35,28,56,15,83,18,40,15,51,34,28,39,31,32,26,169,69,54,45,26,30,37,31,21,82,41,39,19,13,26,23,92,54,50,64,40,40,63,28,38,24,24,40,47,25,17,28,55,27,28,26,150,120,14,100,24,77,31,101,58,33,43,23,39,34,22,20,30,34,91,73,64,17,24,22,62,45,16,40,41,56,17,22,15,45,17,27,27,40,23,91,30,94,23,16,56,18,18,105,48,59,113,21,31,47,24,17,70,24,44,39,56,32,20,75,41,16,75,21,33,136,27,42,33,27,33,102,30,22,18,186,20,21,29,73,16,68,126,120,54,20,33,72,27,16,25,30,42,18,14,30,20,17,23,144,32,79,21,36,25,19,57,39,41,22,44,23,132,38,23,24,19,19,18,25,52,33,51,97,29,40,60,44,22,35,35,65,24,51,25,53,63,21,30,70,35,29,28,38,19,52,32,15,18,71,25,27,24,78,46,44,37,26,249,55,42,49,54,43,42,86,29,26,21,166,30,17,28,22,60,39,176,16,29,35,19,83,23,60,59,91,36,46,96,60,23,54,27,32,21,52,33,78,17,25,32,40,100,16,25,22,89,35,63,28,25,18,72,47,18,37,29,108,107,26,44,32,35,68,29,22,38,34,120,53,31,22,38,15,63,60,35,22,18,38,20,28,48,18,17,24,31,446,93,28,45,23,29,21,43,116,38,40,39,45,89,49,23,99,20,51,266,25,159,42,21,254,15,20,21,46,52,22,56,27,48,78,23,67,20,41,220,31,21,48,29,21,26,26,50,60,41,37,46,44,27,45,32,26,64,32,86,44,36,28,23,16,18,83,37,35,51,14,75,26,57,29,29,28,38,27,26,20,36,53,43,42,30,42,34,75,27,22,22,17,32,25,16,66,140,26,28,66,52,110,22,30,80,33,79,16,19,190,30,76,56,138,22,28,34,16,28,116,71,20,30,28,50,70,46,26,57,77,114,32,53,81,24,24,33,61,47,234,15,28,121,43,52,31,33,44,17,45,94,24,44,18,69,29,21,16,36,28,59,22,46,65,27,23,15,20,39,33,20,16,73,20,20,73,21,98,28,68,118,41,22,34,135,49,78,26,32,25,35,50,148,44,31,23,39,66,75,48,43,139,61,20,55,39,47,33,80,19,32,40,50,129,42,14,40,18,26,36,28,24,26,25,18,73,29,100,58,17,69,16,70,64,40,33,76,17,25,24,37,44,62,62,33,41,30,46,43,39,38,76,30,44,32,27,39,57,324,67,84,17,25,24,35,35,24,22,101,14,23,38,19,52,54,62,19,25,17,20,49,22,36,27,26,35,40,24,38,20,25,26,116,50,26,22,37,52,18,43,30,36,41,24,22,25,22,25,63,36,45,43,26,34,18,28,64],\"y\":[0.124,4.582,6.111,0.681,9.308,0.998,0.442,0.279,0.575,0.653,0.285,0.374,0.526,1.415,0.233,0.185,0.132,1.519,2.806,0.544,0.585,0.961,5.574,2.303,3.022,2.341,0.099,2.591,0.408,1.118,1.485,2.533,1.019,1.263,1.854,1.029,0.581,1.584,0.27,1.405,0.201,3.376,3.099,0.888,1.403,1.276,0.225,0.229,0.261,0.798,1.506,1.266,1.358,0.847,3.176,0.573,0.315,0.722,0.79,0.835,2.45,2.1,5.245,4.522,0.324,1.721,1.735,2.472,0.832,0.838,0.55,0.885,2.935,3.366,0.694,0.985,0.677,0.37,3.237,0.419,1.366,3.9,3.326,0.891,0.543,0.386,1.491,0.433,1.492,0.818,0.633,0.103,0.277,0.569,0.125,0.254,0.419,0.036,2.594,0.219,1.165,7.613,1.056,1.97,1.086,3.176,0.072,1.019,0.12,1.315,1.888,2.14,2.056,1.009,0.861,1.43,0.227,2.4,5.55,0.543,0.369,1.124,0.496,0.694,1.54,0.828,0.429,0.339,1.023,0.183,0.179,1.143,2.332,0.326,1.07,1.844,0.146,1.185,0.358,1.584,2.918,0.455,0.444,0.762,7.817,1.522,2.868,3.042,0.838,0.07,0.199,0.585,1.332,0.068,2.108,4.213,0.987,2.992,1.338,3.11,0.325,2.801,0.468,2.864,0.65,0.025,0.402,0.074,0.311,0.975,5.002,0.111,0.122,0.292,0.238,2.754,0.856,0.209,3.491,0.397,4.004,0.181,0.52,20.561,1.961,6.049,0.764,0.602,0.899,0.556,3.744,2.212,0.022,0.118,1.033,1.526,0.15,3.93,15.792,0.099,2.381,0.612,1.977,0.276,0.416,4.96,0.031,1.636,0.633,0.32,0.141,0.264,1.357,0.565,0.667,1.011,1.017,7.754,0.92,0.321,0.488,2.561,0.602,0.468,0.729,0.225,5.782,0.156,1.405,3.032,0.233,1.138,4.637,1.375,6.589,0.03,0.344,0.321,2.686,0.262,0.291,0.686,0.881,0.126,0.751,0.349,0.411,4.593,1.04,0.377,0.613,0.205,0.185,1.402,2.605,5.897,0.774,0.279,0.046,1.421,0.409,6.506,3.196,0.259,0.951,0.563,1.249,5.091,0.185,0.129,0.591,0.382,0.572,1.565,0.393,0.199,1.787,1.751,0.402,0.226,0.13,13.553,2.659,0.256,3.704,0.417,5.501,0.338,0.341,4.584,0.5,0.555,0.077,4.373,0.238,1.139,0.377,0.155,0.133,0.573,2.869,0.895,0.302,1.041,1.739,1.186,2.013,3.065,1.803,0.266,0.333,0.746,1.092,0.147,0.916,0.142,0.724,1.089,0.898,0.898,2.316,0.113,3.612,0.242,0.084,0.864,0.514,0.45,1.418,1.93,1.808,3.192,0.776,1.986,0.437,0.802,0.012,4.334,1.084,1.333,2.561,0.543,0.239,0.379,3.133,0.941,0.574,2.207,0.025,0.778,14.231,0.312,0.093,0.146,0.069,0.546,6.227,0.324,0.385,0.159,2.404,0.174,0.108,0.59,2.223,0.871,0.448,0.477,4.14,0.727,0.472,1.633,1.182,0.594,0.894,2.778,3.646,0.205,0.296,0.233,1.472,0.105,0.044,0.141,3.325,0.491,0.782,0.492,0.624,0.276,1.245,5.44,0.14,2.996,0.403,1.867,1.242,2.558,1.178,0.617,2.173,0.336,0.624,0.583,1.177,2.54,1.195,1.551,1.827,0.739,1.632,1.721,3.703,1.916,0.781,1.349,2.533,1.801,2.412,0.144,0.84,5.715,0.915,0.65,10.679,0.548,0.053,1.558,1.383,0.287,4.16,1.234,0.119,0.478,6.566,0.57,0.295,0.217,4.405,0.967,0.071,0.676,0.03,4.273,2.126,2.708,0.273,1.5,0.588,0.228,4.991,1.349,1.53,0.187,0.821,0.329,2.044,1.058,0.551,1.607,0.459,11.359,1.085,1.716,0.077,0.85,0.32,0.053,0.804,4.936,1.256,1.486,2.516,2.254,0.468,0.373,0.622,0.777,0.927,2.682,1.902,2.694,2.157,0.806,1.06,0.433,1.214,5.06,0.242,0.124,2.262,2.772,1.266,0.936,0.965,0.569,0.352,15.017,1.597,0.239,1.16,2.148,5.251,1.638,0.283,0.773,0.422,2.124,1.507,2.33,1.092,0.636,1.37,14.596,0.19,1.617,1.274,0.774,0.073,4.638,4.039,1.601,0.566,1.939,0.722,0.853,0.345,1.201,1.981,0.521,0.867,2.057,16.031,9.542,0.048,0.585,0.187,0.264,0.45,2.793,2.24,0.029,0.284,2.458,0.535,0.159,0.818,0.87,0.827,0.207,3.739,2.192,1.77,1.068,1.047,1.317,7.002,0.015,1.006,0.608,1.262,1.155,1.41,0.374,0.549,1.474,3.153,0.252,3.834,0.319,0.134,8.166,1.025,1.21,0.42,1.425,1.11,0.538,0.888,2.016,9.593,0.459,0.083,0.561,0.606,1.982,2.739,0.854,0.326,1.45,1.071,1.476,2.134,4.514,2.284,1.104,0.878,0.066,0.259,1.343,0.432,1.875,0.587,7.759,0.93,1.559,2.782,1.065,0.437,0.364,0.674,0.31,0.263,0.127,1.195,1.806,2.541,0.448,1.458,0.298,9.877,1.275,1.97,1.209,0.157,2.697,0.21,0.13,1.641,4.184,2.012,0.815,1.468,0.932,5.821,0.721,1.899,2.479,0.682,0.288,0.433,0.359,3.157,0.121,0.995,4.765,1.222,1.039,0.534,0.851,0.27,1.024,1.614,1.663,0.622,0.144,0.11,7.32,1.329,0.53,0.432,0.453,1.1,3.295,1.168,0.089,1.785,0.442,0.107,2.502,1.875,0.399,7.387,0.35,1.271,1.365,0.883,0.926,1.362,0.795,2.995,0.47,2.852,1.734,0.833,0.353,0.885,0.707,0.443,0.567,0.141,0.391,0.553,4.673,0.237,1.17,1.985,0.966,0.285,0.371,0.729,1.702,0.553,0.291,0.805,3.752,2.049,0.091,3.727,1.377,4.875,0.377,2.857,9.6,0.355,5.283,0.398,1.277,0.431,6.936,1.295,0.175,1.629,0.506,1.044,3.975,0.525,1.701,0.046,1.602,2.316,3.955,0.511,0.086,2.288,0.563,0.809,2.16,1.143,1.301,4.881,0.912,0.19,3.341,0.95,0.559,0.551,0.769,0.242,1.896,0.131,0.641,0.709,2.126,1.636,0.122,0.706,0.528,1.054,2.527,5.402,3.084,0.304,1.061,0.025,1.618,0.651,1.976,0.397,2.151,0.569,0.367,1.577,0.18,0.446,0.694,9.703,0.574,0.456,2.663,0.241,1.04,0.218,1.897,6.949,0.279,0.368,2.105,1.646,1.066,0.878,7.053,3.741,6.912,0.447,0.312,1.597,0.086,1.969,0.47,0.14,1.875,0.302,1.327,0.171,0.242,1.497,1.163,2.437,1.887,0.596,0.555,0.042,3.237,0.631,0.278,0.262,0.249,2.383,1.695,0.419,0.694,0.105,1.419,1.473,4.027,6.114,1.852,0.03,0.834,2.714,0.401,2.649,0.264,0.384,2.367,0.552,0.849,1.306,0.37,0.343,0.572,0.273,0.982,0.694,0.548,0.359,2.802,0.116,1.866],\"z\":[6.3,12.8,20.9,6.3,7.2,10.9,1.6,6.6,15.5,4.0,6.1,1.6,6.5,17.6,9.4,9.2,2.5,10.6,10.8,10.9,4.2,13.0,19.8,8.4,17.3,8.8,2.6,13.5,2.4,10.1,2.5,15.0,3.9,10.0,7.7,8.4,5.4,12.9,4.4,6.8,9.7,12.0,23.8,5.9,21.3,13.1,17.5,3.5,4.1,6.2,5.5,32.5,24.4,3.3,19.9,12.6,4.8,6.0,6.6,4.8,13.7,15.4,11.2,13.4,3.7,8.0,4.0,10.5,14.7,16.1,2.8,1.9,7.2,15.5,4.8,12.9,3.3,7.9,12.2,4.4,10.8,29.7,6.6,9.1,15.0,5.4,12.2,10.5,8.2,18.4,3.5,2.8,2.5,18.6,2.2,0.9,9.4,1.2,14.8,4.7,25.4,13.7,5.4,9.0,13.2,30.1,2.9,14.4,3.0,3.3,5.7,17.6,9.5,16.0,9.8,6.6,10.7,8.1,18.2,6.0,11.5,8.3,5.5,3.7,9.1,5.0,1.9,2.9,19.8,1.7,3.4,10.5,11.5,4.5,13.9,11.0,1.2,11.0,9.7,16.4,16.4,8.7,11.8,12.0,25.1,19.9,10.3,13.2,5.7,4.5,2.6,23.4,9.3,15.4,6.2,17.2,2.6,5.6,17.1,14.6,4.1,19.2,0.8,10.9,11.5,1.6,2.8,0.9,2.7,9.8,14.3,12.3,2.6,11.0,5.0,28.9,5.5,5.1,12.4,4.7,16.0,7.2,6.3,25.3,26.3,26.0,7.0,8.9,12.9,1.1,20.3,24.5,0.1,0.9,3.4,10.6,6.8,10.0,17.6,1.7,9.2,4.6,13.8,4.0,2.6,13.2,3.1,2.6,3.6,5.7,9.1,5.1,5.5,1.0,10.6,17.8,13.0,23.3,12.1,2.1,12.5,6.0,5.8,6.7,8.3,4.9,14.1,8.0,24.6,12.9,5.0,17.0,16.9,12.7,14.0,1.1,10.9,16.1,23.0,4.4,11.3,3.2,8.1,4.7,7.1,2.2,6.4,12.1,8.5,12.4,7.2,14.2,4.8,23.1,4.4,25.1,8.2,8.4,3.1,8.9,6.9,13.0,14.4,2.4,16.7,8.0,7.0,13.4,7.1,3.6,12.5,5.0,2.9,7.6,10.2,2.5,17.3,16.5,9.8,9.5,1.2,32.5,2.9,10.5,9.1,7.8,10.6,6.6,1.4,16.5,4.2,5.0,0.9,24.7,4.4,10.5,10.3,8.2,8.5,13.7,6.8,5.8,7.9,9.6,16.4,8.5,18.8,32.3,17.2,8.9,6.4,11.0,9.6,2.6,3.7,5.0,7.0,12.8,5.1,8.1,25.2,6.7,10.5,4.9,1.2,6.1,18.9,5.1,1.9,13.1,8.0,13.2,11.4,12.2,5.0,19.2,1.6,12.0,21.3,5.6,12.9,1.9,2.7,16.9,18.9,4.6,14.7,6.3,0.6,7.3,23.1,2.9,3.0,4.2,2.3,5.2,18.9,11.5,6.7,17.3,3.6,21.7,5.2,6.6,5.4,15.2,5.4,3.1,7.6,4.4,6.7,13.2,7.6,6.4,28.5,19.7,21.7,7.4,5.8,9.9,9.7,3.5,2.3,12.5,11.1,7.6,7.5,18.3,4.7,3.7,13.6,23.8,1.8,30.7,10.9,9.6,8.0,3.0,6.5,5.6,19.1,4.4,16.6,12.8,14.1,20.1,7.1,18.1,6.0,6.1,6.7,7.9,18.1,23.1,9.0,10.2,16.8,15.1,21.4,4.0,10.5,16.0,11.4,7.6,28.2,17.4,4.6,14.8,15.1,4.1,20.0,19.0,9.1,7.7,15.7,5.8,1.7,4.5,15.6,6.2,1.7,8.5,8.3,7.8,11.4,19.9,1.3,10.6,5.6,3.6,26.5,13.8,7.7,7.2,11.5,9.7,27.7,9.4,9.7,15.3,4.9,9.3,23.8,16.3,2.9,10.8,4.1,6.2,4.8,16.5,11.7,13.9,9.1,7.8,1.1,8.4,9.6,5.8,6.0,28.9,13.8,16.1,5.4,18.6,10.1,4.3,18.5,11.5,18.0,4.5,20.2,17.4,8.0,15.8,5.9,10.4,16.3,41.3,9.6,5.9,6.6,13.3,11.8,6.1,6.8,8.7,4.9,22.9,5.8,21.2,12.7,10.4,11.1,26.5,3.7,13.8,11.4,7.2,11.3,15.4,20.4,13.3,5.5,14.8,10.8,7.9,4.8,8.6,25.6,17.3,7.8,23.7,6.5,14.7,2.4,7.3,6.4,4.9,9.0,15.0,4.1,0.6,3.1,10.1,7.0,0.4,8.6,12.4,2.3,5.6,23.8,2.0,10.0,2.8,8.6,12.9,7.7,4.3,19.8,4.9,5.1,3.2,16.1,14.5,5.0,7.6,10.5,5.2,30.6,5.4,12.6,16.0,11.6,8.4,9.3,24.2,18.1,6.1,9.7,11.2,27.1,2.5,8.6,5.0,4.5,35.3,17.0,3.7,4.1,15.0,9.0,13.0,5.9,19.5,33.3,9.3,7.2,1.2,4.1,9.5,4.5,9.6,14.4,23.3,10.4,19.4,15.4,11.1,14.2,6.9,5.4,4.5,3.0,1.4,13.5,15.0,19.9,4.0,7.4,6.8,23.6,12.3,15.0,22.7,6.7,19.6,4.7,1.1,9.6,13.9,13.6,11.2,3.2,5.4,12.6,10.3,15.4,12.2,8.4,7.3,9.3,4.3,7.8,4.8,7.7,18.7,4.1,12.9,3.6,6.5,6.4,7.8,12.1,11.1,5.4,1.0,1.3,36.6,9.4,3.8,10.0,2.2,4.7,8.5,11.3,3.3,7.2,6.6,2.4,10.3,7.9,6.9,7.7,6.5,9.3,3.1,4.9,7.3,17.3,11.2,14.7,9.0,17.8,5.3,7.7,1.7,18.7,6.7,5.4,7.5,6.3,2.1,9.5,15.0,6.4,5.4,18.4,8.0,12.4,11.4,8.1,16.1,5.2,4.5,9.6,8.8,17.1,1.5,14.3,14.8,13.3,4.3,20.1,14.4,3.4,27.7,5.0,4.4,1.6,17.3,13.5,13.0,10.2,15.9,14.7,7.2,3.1,11.7,2.0,10.4,12.1,10.4,7.5,0.7,5.6,5.7,14.0,7.0,13.2,6.7,17.0,3.0,6.9,23.1,6.4,4.2,2.5,17.6,17.1,10.8,13.0,9.1,6.1,18.7,15.6,10.4,6.8,6.0,8.7,25.7,14.6,18.4,12.0,2.4,7.3,8.0,3.0,9.8,7.0,6.1,5.6,9.0,13.6,1.3,14.7,9.4,32.4,9.5,9.5,22.3,1.6,6.2,5.7,8.9,20.5,4.5,2.1,11.3,9.8,7.9,5.6,7.0,13.2,13.6,3.7,3.7,12.1,1.9,16.5,6.7,2.8,6.4,7.5,16.3,8.5,4.4,9.2,7.4,15.0,23.1,7.5,10.5,1.2,9.8,6.4,3.8,4.6,3.8,12.4,9.9,14.2,21.0,2.1,12.7,19.2,5.7,30.8,14.3,4.2,4.5,21.3,11.9,15.4,15.7,8.6,19.5,6.3,14.4,7.1,6.7,5.7,5.5,2.4,3.7,4.4,6.8,7.0,33.4,2.9,8.6],\"type\":\"scatter3d\"}],                        {\"template\":{\"data\":{\"histogram2dcontour\":[{\"type\":\"histogram2dcontour\",\"colorbar\":{\"outlinewidth\":0,\"ticks\":\"\"},\"colorscale\":[[0.0,\"#0d0887\"],[0.1111111111111111,\"#46039f\"],[0.2222222222222222,\"#7201a8\"],[0.3333333333333333,\"#9c179e\"],[0.4444444444444444,\"#bd3786\"],[0.5555555555555556,\"#d8576b\"],[0.6666666666666666,\"#ed7953\"],[0.7777777777777778,\"#fb9f3a\"],[0.8888888888888888,\"#fdca26\"],[1.0,\"#f0f921\"]]}],\"choropleth\":[{\"type\":\"choropleth\",\"colorbar\":{\"outlinewidth\":0,\"ticks\":\"\"}}],\"histogram2d\":[{\"type\":\"histogram2d\",\"colorbar\":{\"outlinewidth\":0,\"ticks\":\"\"},\"colorscale\":[[0.0,\"#0d0887\"],[0.1111111111111111,\"#46039f\"],[0.2222222222222222,\"#7201a8\"],[0.3333333333333333,\"#9c179e\"],[0.4444444444444444,\"#bd3786\"],[0.5555555555555556,\"#d8576b\"],[0.6666666666666666,\"#ed7953\"],[0.7777777777777778,\"#fb9f3a\"],[0.8888888888888888,\"#fdca26\"],[1.0,\"#f0f921\"]]}],\"heatmap\":[{\"type\":\"heatmap\",\"colorbar\":{\"outlinewidth\":0,\"ticks\":\"\"},\"colorscale\":[[0.0,\"#0d0887\"],[0.1111111111111111,\"#46039f\"],[0.2222222222222222,\"#7201a8\"],[0.3333333333333333,\"#9c179e\"],[0.4444444444444444,\"#bd3786\"],[0.5555555555555556,\"#d8576b\"],[0.6666666666666666,\"#ed7953\"],[0.7777777777777778,\"#fb9f3a\"],[0.8888888888888888,\"#fdca26\"],[1.0,\"#f0f921\"]]}],\"heatmapgl\":[{\"type\":\"heatmapgl\",\"colorbar\":{\"outlinewidth\":0,\"ticks\":\"\"},\"colorscale\":[[0.0,\"#0d0887\"],[0.1111111111111111,\"#46039f\"],[0.2222222222222222,\"#7201a8\"],[0.3333333333333333,\"#9c179e\"],[0.4444444444444444,\"#bd3786\"],[0.5555555555555556,\"#d8576b\"],[0.6666666666666666,\"#ed7953\"],[0.7777777777777778,\"#fb9f3a\"],[0.8888888888888888,\"#fdca26\"],[1.0,\"#f0f921\"]]}],\"contourcarpet\":[{\"type\":\"contourcarpet\",\"colorbar\":{\"outlinewidth\":0,\"ticks\":\"\"}}],\"contour\":[{\"type\":\"contour\",\"colorbar\":{\"outlinewidth\":0,\"ticks\":\"\"},\"colorscale\":[[0.0,\"#0d0887\"],[0.1111111111111111,\"#46039f\"],[0.2222222222222222,\"#7201a8\"],[0.3333333333333333,\"#9c179e\"],[0.4444444444444444,\"#bd3786\"],[0.5555555555555556,\"#d8576b\"],[0.6666666666666666,\"#ed7953\"],[0.7777777777777778,\"#fb9f3a\"],[0.8888888888888888,\"#fdca26\"],[1.0,\"#f0f921\"]]}],\"surface\":[{\"type\":\"surface\",\"colorbar\":{\"outlinewidth\":0,\"ticks\":\"\"},\"colorscale\":[[0.0,\"#0d0887\"],[0.1111111111111111,\"#46039f\"],[0.2222222222222222,\"#7201a8\"],[0.3333333333333333,\"#9c179e\"],[0.4444444444444444,\"#bd3786\"],[0.5555555555555556,\"#d8576b\"],[0.6666666666666666,\"#ed7953\"],[0.7777777777777778,\"#fb9f3a\"],[0.8888888888888888,\"#fdca26\"],[1.0,\"#f0f921\"]]}],\"mesh3d\":[{\"type\":\"mesh3d\",\"colorbar\":{\"outlinewidth\":0,\"ticks\":\"\"}}],\"scatter\":[{\"fillpattern\":{\"fillmode\":\"overlay\",\"size\":10,\"solidity\":0.2},\"type\":\"scatter\"}],\"parcoords\":[{\"type\":\"parcoords\",\"line\":{\"colorbar\":{\"outlinewidth\":0,\"ticks\":\"\"}}}],\"scatterpolargl\":[{\"type\":\"scatterpolargl\",\"marker\":{\"colorbar\":{\"outlinewidth\":0,\"ticks\":\"\"}}}],\"bar\":[{\"error_x\":{\"color\":\"#2a3f5f\"},\"error_y\":{\"color\":\"#2a3f5f\"},\"marker\":{\"line\":{\"color\":\"#E5ECF6\",\"width\":0.5},\"pattern\":{\"fillmode\":\"overlay\",\"size\":10,\"solidity\":0.2}},\"type\":\"bar\"}],\"scattergeo\":[{\"type\":\"scattergeo\",\"marker\":{\"colorbar\":{\"outlinewidth\":0,\"ticks\":\"\"}}}],\"scatterpolar\":[{\"type\":\"scatterpolar\",\"marker\":{\"colorbar\":{\"outlinewidth\":0,\"ticks\":\"\"}}}],\"histogram\":[{\"marker\":{\"pattern\":{\"fillmode\":\"overlay\",\"size\":10,\"solidity\":0.2}},\"type\":\"histogram\"}],\"scattergl\":[{\"type\":\"scattergl\",\"marker\":{\"colorbar\":{\"outlinewidth\":0,\"ticks\":\"\"}}}],\"scatter3d\":[{\"type\":\"scatter3d\",\"line\":{\"colorbar\":{\"outlinewidth\":0,\"ticks\":\"\"}},\"marker\":{\"colorbar\":{\"outlinewidth\":0,\"ticks\":\"\"}}}],\"scattermapbox\":[{\"type\":\"scattermapbox\",\"marker\":{\"colorbar\":{\"outlinewidth\":0,\"ticks\":\"\"}}}],\"scatterternary\":[{\"type\":\"scatterternary\",\"marker\":{\"colorbar\":{\"outlinewidth\":0,\"ticks\":\"\"}}}],\"scattercarpet\":[{\"type\":\"scattercarpet\",\"marker\":{\"colorbar\":{\"outlinewidth\":0,\"ticks\":\"\"}}}],\"carpet\":[{\"aaxis\":{\"endlinecolor\":\"#2a3f5f\",\"gridcolor\":\"white\",\"linecolor\":\"white\",\"minorgridcolor\":\"white\",\"startlinecolor\":\"#2a3f5f\"},\"baxis\":{\"endlinecolor\":\"#2a3f5f\",\"gridcolor\":\"white\",\"linecolor\":\"white\",\"minorgridcolor\":\"white\",\"startlinecolor\":\"#2a3f5f\"},\"type\":\"carpet\"}],\"table\":[{\"cells\":{\"fill\":{\"color\":\"#EBF0F8\"},\"line\":{\"color\":\"white\"}},\"header\":{\"fill\":{\"color\":\"#C8D4E3\"},\"line\":{\"color\":\"white\"}},\"type\":\"table\"}],\"barpolar\":[{\"marker\":{\"line\":{\"color\":\"#E5ECF6\",\"width\":0.5},\"pattern\":{\"fillmode\":\"overlay\",\"size\":10,\"solidity\":0.2}},\"type\":\"barpolar\"}],\"pie\":[{\"automargin\":true,\"type\":\"pie\"}]},\"layout\":{\"autotypenumbers\":\"strict\",\"colorway\":[\"#636efa\",\"#EF553B\",\"#00cc96\",\"#ab63fa\",\"#FFA15A\",\"#19d3f3\",\"#FF6692\",\"#B6E880\",\"#FF97FF\",\"#FECB52\"],\"font\":{\"color\":\"#2a3f5f\"},\"hovermode\":\"closest\",\"hoverlabel\":{\"align\":\"left\"},\"paper_bgcolor\":\"white\",\"plot_bgcolor\":\"#E5ECF6\",\"polar\":{\"bgcolor\":\"#E5ECF6\",\"angularaxis\":{\"gridcolor\":\"white\",\"linecolor\":\"white\",\"ticks\":\"\"},\"radialaxis\":{\"gridcolor\":\"white\",\"linecolor\":\"white\",\"ticks\":\"\"}},\"ternary\":{\"bgcolor\":\"#E5ECF6\",\"aaxis\":{\"gridcolor\":\"white\",\"linecolor\":\"white\",\"ticks\":\"\"},\"baxis\":{\"gridcolor\":\"white\",\"linecolor\":\"white\",\"ticks\":\"\"},\"caxis\":{\"gridcolor\":\"white\",\"linecolor\":\"white\",\"ticks\":\"\"}},\"coloraxis\":{\"colorbar\":{\"outlinewidth\":0,\"ticks\":\"\"}},\"colorscale\":{\"sequential\":[[0.0,\"#0d0887\"],[0.1111111111111111,\"#46039f\"],[0.2222222222222222,\"#7201a8\"],[0.3333333333333333,\"#9c179e\"],[0.4444444444444444,\"#bd3786\"],[0.5555555555555556,\"#d8576b\"],[0.6666666666666666,\"#ed7953\"],[0.7777777777777778,\"#fb9f3a\"],[0.8888888888888888,\"#fdca26\"],[1.0,\"#f0f921\"]],\"sequentialminus\":[[0.0,\"#0d0887\"],[0.1111111111111111,\"#46039f\"],[0.2222222222222222,\"#7201a8\"],[0.3333333333333333,\"#9c179e\"],[0.4444444444444444,\"#bd3786\"],[0.5555555555555556,\"#d8576b\"],[0.6666666666666666,\"#ed7953\"],[0.7777777777777778,\"#fb9f3a\"],[0.8888888888888888,\"#fdca26\"],[1.0,\"#f0f921\"]],\"diverging\":[[0,\"#8e0152\"],[0.1,\"#c51b7d\"],[0.2,\"#de77ae\"],[0.3,\"#f1b6da\"],[0.4,\"#fde0ef\"],[0.5,\"#f7f7f7\"],[0.6,\"#e6f5d0\"],[0.7,\"#b8e186\"],[0.8,\"#7fbc41\"],[0.9,\"#4d9221\"],[1,\"#276419\"]]},\"xaxis\":{\"gridcolor\":\"white\",\"linecolor\":\"white\",\"ticks\":\"\",\"title\":{\"standoff\":15},\"zerolinecolor\":\"white\",\"automargin\":true,\"zerolinewidth\":2},\"yaxis\":{\"gridcolor\":\"white\",\"linecolor\":\"white\",\"ticks\":\"\",\"title\":{\"standoff\":15},\"zerolinecolor\":\"white\",\"automargin\":true,\"zerolinewidth\":2},\"scene\":{\"xaxis\":{\"backgroundcolor\":\"#E5ECF6\",\"gridcolor\":\"white\",\"linecolor\":\"white\",\"showbackground\":true,\"ticks\":\"\",\"zerolinecolor\":\"white\",\"gridwidth\":2},\"yaxis\":{\"backgroundcolor\":\"#E5ECF6\",\"gridcolor\":\"white\",\"linecolor\":\"white\",\"showbackground\":true,\"ticks\":\"\",\"zerolinecolor\":\"white\",\"gridwidth\":2},\"zaxis\":{\"backgroundcolor\":\"#E5ECF6\",\"gridcolor\":\"white\",\"linecolor\":\"white\",\"showbackground\":true,\"ticks\":\"\",\"zerolinecolor\":\"white\",\"gridwidth\":2}},\"shapedefaults\":{\"line\":{\"color\":\"#2a3f5f\"}},\"annotationdefaults\":{\"arrowcolor\":\"#2a3f5f\",\"arrowhead\":0,\"arrowwidth\":1},\"geo\":{\"bgcolor\":\"white\",\"landcolor\":\"#E5ECF6\",\"subunitcolor\":\"white\",\"showland\":true,\"showlakes\":true,\"lakecolor\":\"white\"},\"title\":{\"x\":0.05},\"mapbox\":{\"style\":\"light\"}}},\"scene\":{\"domain\":{\"x\":[0.0,1.0],\"y\":[0.0,1.0]},\"xaxis\":{\"title\":{\"text\":\"Income\"}},\"yaxis\":{\"title\":{\"text\":\"Card Debt\"}},\"zaxis\":{\"title\":{\"text\":\"DebtIncomeRatio\"}}},\"coloraxis\":{\"colorbar\":{\"title\":{\"text\":\"clusters\"}},\"colorscale\":[[0.0,\"#0d0887\"],[0.1111111111111111,\"#46039f\"],[0.2222222222222222,\"#7201a8\"],[0.3333333333333333,\"#9c179e\"],[0.4444444444444444,\"#bd3786\"],[0.5555555555555556,\"#d8576b\"],[0.6666666666666666,\"#ed7953\"],[0.7777777777777778,\"#fb9f3a\"],[0.8888888888888888,\"#fdca26\"],[1.0,\"#f0f921\"]]},\"legend\":{\"tracegroupgap\":0},\"margin\":{\"t\":60}},                        {\"responsive\": true}                    ).then(function(){\n",
              "                            \n",
              "var gd = document.getElementById('beb00432-7cb6-4693-b40d-956672b43f32');\n",
              "var x = new MutationObserver(function (mutations, observer) {{\n",
              "        var display = window.getComputedStyle(gd).display;\n",
              "        if (!display || display === 'none') {{\n",
              "            console.log([gd, 'removed!']);\n",
              "            Plotly.purge(gd);\n",
              "            observer.disconnect();\n",
              "        }}\n",
              "}});\n",
              "\n",
              "// Listen for the removal of the full notebook cells\n",
              "var notebookContainer = gd.closest('#notebook-container');\n",
              "if (notebookContainer) {{\n",
              "    x.observe(notebookContainer, {childList: true});\n",
              "}}\n",
              "\n",
              "// Listen for the clearing of the current output cell\n",
              "var outputEl = gd.closest('.output');\n",
              "if (outputEl) {{\n",
              "    x.observe(outputEl, {childList: true});\n",
              "}}\n",
              "\n",
              "                        })                };                            </script>        </div>\n",
              "</body>\n",
              "</html>"
            ]
          },
          "metadata": {}
        }
      ]
    },
    {
      "cell_type": "code",
      "source": [
        "X = df[['Income' ,\t'Card Debt', 'DebtIncomeRatio']]\n"
      ],
      "metadata": {
        "id": "_bC1vsV13e_n"
      },
      "execution_count": null,
      "outputs": []
    },
    {
      "cell_type": "code",
      "source": [
        "kmeans = KMeans(n_clusters=3)\n",
        "kmeans.fit(X)\n"
      ],
      "metadata": {
        "colab": {
          "base_uri": "https://localhost:8080/",
          "height": 144
        },
        "id": "oqJ8uSXC3nb_",
        "outputId": "52e8e387-89ac-4ad6-c197-7ade660e953d"
      },
      "execution_count": null,
      "outputs": [
        {
          "output_type": "stream",
          "name": "stderr",
          "text": [
            "/usr/local/lib/python3.10/dist-packages/sklearn/cluster/_kmeans.py:870: FutureWarning:\n",
            "\n",
            "The default value of `n_init` will change from 10 to 'auto' in 1.4. Set the value of `n_init` explicitly to suppress the warning\n",
            "\n"
          ]
        },
        {
          "output_type": "execute_result",
          "data": {
            "text/plain": [
              "KMeans(n_clusters=3)"
            ],
            "text/html": [
              "<style>#sk-container-id-4 {color: black;background-color: white;}#sk-container-id-4 pre{padding: 0;}#sk-container-id-4 div.sk-toggleable {background-color: white;}#sk-container-id-4 label.sk-toggleable__label {cursor: pointer;display: block;width: 100%;margin-bottom: 0;padding: 0.3em;box-sizing: border-box;text-align: center;}#sk-container-id-4 label.sk-toggleable__label-arrow:before {content: \"▸\";float: left;margin-right: 0.25em;color: #696969;}#sk-container-id-4 label.sk-toggleable__label-arrow:hover:before {color: black;}#sk-container-id-4 div.sk-estimator:hover label.sk-toggleable__label-arrow:before {color: black;}#sk-container-id-4 div.sk-toggleable__content {max-height: 0;max-width: 0;overflow: hidden;text-align: left;background-color: #f0f8ff;}#sk-container-id-4 div.sk-toggleable__content pre {margin: 0.2em;color: black;border-radius: 0.25em;background-color: #f0f8ff;}#sk-container-id-4 input.sk-toggleable__control:checked~div.sk-toggleable__content {max-height: 200px;max-width: 100%;overflow: auto;}#sk-container-id-4 input.sk-toggleable__control:checked~label.sk-toggleable__label-arrow:before {content: \"▾\";}#sk-container-id-4 div.sk-estimator input.sk-toggleable__control:checked~label.sk-toggleable__label {background-color: #d4ebff;}#sk-container-id-4 div.sk-label input.sk-toggleable__control:checked~label.sk-toggleable__label {background-color: #d4ebff;}#sk-container-id-4 input.sk-hidden--visually {border: 0;clip: rect(1px 1px 1px 1px);clip: rect(1px, 1px, 1px, 1px);height: 1px;margin: -1px;overflow: hidden;padding: 0;position: absolute;width: 1px;}#sk-container-id-4 div.sk-estimator {font-family: monospace;background-color: #f0f8ff;border: 1px dotted black;border-radius: 0.25em;box-sizing: border-box;margin-bottom: 0.5em;}#sk-container-id-4 div.sk-estimator:hover {background-color: #d4ebff;}#sk-container-id-4 div.sk-parallel-item::after {content: \"\";width: 100%;border-bottom: 1px solid gray;flex-grow: 1;}#sk-container-id-4 div.sk-label:hover label.sk-toggleable__label {background-color: #d4ebff;}#sk-container-id-4 div.sk-serial::before {content: \"\";position: absolute;border-left: 1px solid gray;box-sizing: border-box;top: 0;bottom: 0;left: 50%;z-index: 0;}#sk-container-id-4 div.sk-serial {display: flex;flex-direction: column;align-items: center;background-color: white;padding-right: 0.2em;padding-left: 0.2em;position: relative;}#sk-container-id-4 div.sk-item {position: relative;z-index: 1;}#sk-container-id-4 div.sk-parallel {display: flex;align-items: stretch;justify-content: center;background-color: white;position: relative;}#sk-container-id-4 div.sk-item::before, #sk-container-id-4 div.sk-parallel-item::before {content: \"\";position: absolute;border-left: 1px solid gray;box-sizing: border-box;top: 0;bottom: 0;left: 50%;z-index: -1;}#sk-container-id-4 div.sk-parallel-item {display: flex;flex-direction: column;z-index: 1;position: relative;background-color: white;}#sk-container-id-4 div.sk-parallel-item:first-child::after {align-self: flex-end;width: 50%;}#sk-container-id-4 div.sk-parallel-item:last-child::after {align-self: flex-start;width: 50%;}#sk-container-id-4 div.sk-parallel-item:only-child::after {width: 0;}#sk-container-id-4 div.sk-dashed-wrapped {border: 1px dashed gray;margin: 0 0.4em 0.5em 0.4em;box-sizing: border-box;padding-bottom: 0.4em;background-color: white;}#sk-container-id-4 div.sk-label label {font-family: monospace;font-weight: bold;display: inline-block;line-height: 1.2em;}#sk-container-id-4 div.sk-label-container {text-align: center;}#sk-container-id-4 div.sk-container {/* jupyter's `normalize.less` sets `[hidden] { display: none; }` but bootstrap.min.css set `[hidden] { display: none !important; }` so we also need the `!important` here to be able to override the default hidden behavior on the sphinx rendered scikit-learn.org. See: https://github.com/scikit-learn/scikit-learn/issues/21755 */display: inline-block !important;position: relative;}#sk-container-id-4 div.sk-text-repr-fallback {display: none;}</style><div id=\"sk-container-id-4\" class=\"sk-top-container\"><div class=\"sk-text-repr-fallback\"><pre>KMeans(n_clusters=3)</pre><b>In a Jupyter environment, please rerun this cell to show the HTML representation or trust the notebook. <br />On GitHub, the HTML representation is unable to render, please try loading this page with nbviewer.org.</b></div><div class=\"sk-container\" hidden><div class=\"sk-item\"><div class=\"sk-estimator sk-toggleable\"><input class=\"sk-toggleable__control sk-hidden--visually\" id=\"sk-estimator-id-4\" type=\"checkbox\" checked><label for=\"sk-estimator-id-4\" class=\"sk-toggleable__label sk-toggleable__label-arrow\">KMeans</label><div class=\"sk-toggleable__content\"><pre>KMeans(n_clusters=3)</pre></div></div></div></div></div>"
            ]
          },
          "metadata": {},
          "execution_count": 47
        }
      ]
    },
    {
      "cell_type": "code",
      "source": [
        "dbscan = DBSCAN(eps=0.3, min_samples=5)\n",
        "dbscan.fit(X)\n"
      ],
      "metadata": {
        "colab": {
          "base_uri": "https://localhost:8080/",
          "height": 75
        },
        "id": "0B-nk5vl3xag",
        "outputId": "b9c87838-2a8e-4d39-c24d-397bdde99b91"
      },
      "execution_count": null,
      "outputs": [
        {
          "output_type": "execute_result",
          "data": {
            "text/plain": [
              "DBSCAN(eps=0.3)"
            ],
            "text/html": [
              "<style>#sk-container-id-5 {color: black;background-color: white;}#sk-container-id-5 pre{padding: 0;}#sk-container-id-5 div.sk-toggleable {background-color: white;}#sk-container-id-5 label.sk-toggleable__label {cursor: pointer;display: block;width: 100%;margin-bottom: 0;padding: 0.3em;box-sizing: border-box;text-align: center;}#sk-container-id-5 label.sk-toggleable__label-arrow:before {content: \"▸\";float: left;margin-right: 0.25em;color: #696969;}#sk-container-id-5 label.sk-toggleable__label-arrow:hover:before {color: black;}#sk-container-id-5 div.sk-estimator:hover label.sk-toggleable__label-arrow:before {color: black;}#sk-container-id-5 div.sk-toggleable__content {max-height: 0;max-width: 0;overflow: hidden;text-align: left;background-color: #f0f8ff;}#sk-container-id-5 div.sk-toggleable__content pre {margin: 0.2em;color: black;border-radius: 0.25em;background-color: #f0f8ff;}#sk-container-id-5 input.sk-toggleable__control:checked~div.sk-toggleable__content {max-height: 200px;max-width: 100%;overflow: auto;}#sk-container-id-5 input.sk-toggleable__control:checked~label.sk-toggleable__label-arrow:before {content: \"▾\";}#sk-container-id-5 div.sk-estimator input.sk-toggleable__control:checked~label.sk-toggleable__label {background-color: #d4ebff;}#sk-container-id-5 div.sk-label input.sk-toggleable__control:checked~label.sk-toggleable__label {background-color: #d4ebff;}#sk-container-id-5 input.sk-hidden--visually {border: 0;clip: rect(1px 1px 1px 1px);clip: rect(1px, 1px, 1px, 1px);height: 1px;margin: -1px;overflow: hidden;padding: 0;position: absolute;width: 1px;}#sk-container-id-5 div.sk-estimator {font-family: monospace;background-color: #f0f8ff;border: 1px dotted black;border-radius: 0.25em;box-sizing: border-box;margin-bottom: 0.5em;}#sk-container-id-5 div.sk-estimator:hover {background-color: #d4ebff;}#sk-container-id-5 div.sk-parallel-item::after {content: \"\";width: 100%;border-bottom: 1px solid gray;flex-grow: 1;}#sk-container-id-5 div.sk-label:hover label.sk-toggleable__label {background-color: #d4ebff;}#sk-container-id-5 div.sk-serial::before {content: \"\";position: absolute;border-left: 1px solid gray;box-sizing: border-box;top: 0;bottom: 0;left: 50%;z-index: 0;}#sk-container-id-5 div.sk-serial {display: flex;flex-direction: column;align-items: center;background-color: white;padding-right: 0.2em;padding-left: 0.2em;position: relative;}#sk-container-id-5 div.sk-item {position: relative;z-index: 1;}#sk-container-id-5 div.sk-parallel {display: flex;align-items: stretch;justify-content: center;background-color: white;position: relative;}#sk-container-id-5 div.sk-item::before, #sk-container-id-5 div.sk-parallel-item::before {content: \"\";position: absolute;border-left: 1px solid gray;box-sizing: border-box;top: 0;bottom: 0;left: 50%;z-index: -1;}#sk-container-id-5 div.sk-parallel-item {display: flex;flex-direction: column;z-index: 1;position: relative;background-color: white;}#sk-container-id-5 div.sk-parallel-item:first-child::after {align-self: flex-end;width: 50%;}#sk-container-id-5 div.sk-parallel-item:last-child::after {align-self: flex-start;width: 50%;}#sk-container-id-5 div.sk-parallel-item:only-child::after {width: 0;}#sk-container-id-5 div.sk-dashed-wrapped {border: 1px dashed gray;margin: 0 0.4em 0.5em 0.4em;box-sizing: border-box;padding-bottom: 0.4em;background-color: white;}#sk-container-id-5 div.sk-label label {font-family: monospace;font-weight: bold;display: inline-block;line-height: 1.2em;}#sk-container-id-5 div.sk-label-container {text-align: center;}#sk-container-id-5 div.sk-container {/* jupyter's `normalize.less` sets `[hidden] { display: none; }` but bootstrap.min.css set `[hidden] { display: none !important; }` so we also need the `!important` here to be able to override the default hidden behavior on the sphinx rendered scikit-learn.org. See: https://github.com/scikit-learn/scikit-learn/issues/21755 */display: inline-block !important;position: relative;}#sk-container-id-5 div.sk-text-repr-fallback {display: none;}</style><div id=\"sk-container-id-5\" class=\"sk-top-container\"><div class=\"sk-text-repr-fallback\"><pre>DBSCAN(eps=0.3)</pre><b>In a Jupyter environment, please rerun this cell to show the HTML representation or trust the notebook. <br />On GitHub, the HTML representation is unable to render, please try loading this page with nbviewer.org.</b></div><div class=\"sk-container\" hidden><div class=\"sk-item\"><div class=\"sk-estimator sk-toggleable\"><input class=\"sk-toggleable__control sk-hidden--visually\" id=\"sk-estimator-id-5\" type=\"checkbox\" checked><label for=\"sk-estimator-id-5\" class=\"sk-toggleable__label sk-toggleable__label-arrow\">DBSCAN</label><div class=\"sk-toggleable__content\"><pre>DBSCAN(eps=0.3)</pre></div></div></div></div></div>"
            ]
          },
          "metadata": {},
          "execution_count": 48
        }
      ]
    },
    {
      "cell_type": "code",
      "source": [
        "gmm = GaussianMixture(n_components=3)\n",
        "gmm.fit(X)\n"
      ],
      "metadata": {
        "colab": {
          "base_uri": "https://localhost:8080/",
          "height": 75
        },
        "id": "pAGNkKxD387A",
        "outputId": "2d2e37b8-4084-4e97-aede-bd24ba7c70cf"
      },
      "execution_count": null,
      "outputs": [
        {
          "output_type": "execute_result",
          "data": {
            "text/plain": [
              "GaussianMixture(n_components=3)"
            ],
            "text/html": [
              "<style>#sk-container-id-6 {color: black;background-color: white;}#sk-container-id-6 pre{padding: 0;}#sk-container-id-6 div.sk-toggleable {background-color: white;}#sk-container-id-6 label.sk-toggleable__label {cursor: pointer;display: block;width: 100%;margin-bottom: 0;padding: 0.3em;box-sizing: border-box;text-align: center;}#sk-container-id-6 label.sk-toggleable__label-arrow:before {content: \"▸\";float: left;margin-right: 0.25em;color: #696969;}#sk-container-id-6 label.sk-toggleable__label-arrow:hover:before {color: black;}#sk-container-id-6 div.sk-estimator:hover label.sk-toggleable__label-arrow:before {color: black;}#sk-container-id-6 div.sk-toggleable__content {max-height: 0;max-width: 0;overflow: hidden;text-align: left;background-color: #f0f8ff;}#sk-container-id-6 div.sk-toggleable__content pre {margin: 0.2em;color: black;border-radius: 0.25em;background-color: #f0f8ff;}#sk-container-id-6 input.sk-toggleable__control:checked~div.sk-toggleable__content {max-height: 200px;max-width: 100%;overflow: auto;}#sk-container-id-6 input.sk-toggleable__control:checked~label.sk-toggleable__label-arrow:before {content: \"▾\";}#sk-container-id-6 div.sk-estimator input.sk-toggleable__control:checked~label.sk-toggleable__label {background-color: #d4ebff;}#sk-container-id-6 div.sk-label input.sk-toggleable__control:checked~label.sk-toggleable__label {background-color: #d4ebff;}#sk-container-id-6 input.sk-hidden--visually {border: 0;clip: rect(1px 1px 1px 1px);clip: rect(1px, 1px, 1px, 1px);height: 1px;margin: -1px;overflow: hidden;padding: 0;position: absolute;width: 1px;}#sk-container-id-6 div.sk-estimator {font-family: monospace;background-color: #f0f8ff;border: 1px dotted black;border-radius: 0.25em;box-sizing: border-box;margin-bottom: 0.5em;}#sk-container-id-6 div.sk-estimator:hover {background-color: #d4ebff;}#sk-container-id-6 div.sk-parallel-item::after {content: \"\";width: 100%;border-bottom: 1px solid gray;flex-grow: 1;}#sk-container-id-6 div.sk-label:hover label.sk-toggleable__label {background-color: #d4ebff;}#sk-container-id-6 div.sk-serial::before {content: \"\";position: absolute;border-left: 1px solid gray;box-sizing: border-box;top: 0;bottom: 0;left: 50%;z-index: 0;}#sk-container-id-6 div.sk-serial {display: flex;flex-direction: column;align-items: center;background-color: white;padding-right: 0.2em;padding-left: 0.2em;position: relative;}#sk-container-id-6 div.sk-item {position: relative;z-index: 1;}#sk-container-id-6 div.sk-parallel {display: flex;align-items: stretch;justify-content: center;background-color: white;position: relative;}#sk-container-id-6 div.sk-item::before, #sk-container-id-6 div.sk-parallel-item::before {content: \"\";position: absolute;border-left: 1px solid gray;box-sizing: border-box;top: 0;bottom: 0;left: 50%;z-index: -1;}#sk-container-id-6 div.sk-parallel-item {display: flex;flex-direction: column;z-index: 1;position: relative;background-color: white;}#sk-container-id-6 div.sk-parallel-item:first-child::after {align-self: flex-end;width: 50%;}#sk-container-id-6 div.sk-parallel-item:last-child::after {align-self: flex-start;width: 50%;}#sk-container-id-6 div.sk-parallel-item:only-child::after {width: 0;}#sk-container-id-6 div.sk-dashed-wrapped {border: 1px dashed gray;margin: 0 0.4em 0.5em 0.4em;box-sizing: border-box;padding-bottom: 0.4em;background-color: white;}#sk-container-id-6 div.sk-label label {font-family: monospace;font-weight: bold;display: inline-block;line-height: 1.2em;}#sk-container-id-6 div.sk-label-container {text-align: center;}#sk-container-id-6 div.sk-container {/* jupyter's `normalize.less` sets `[hidden] { display: none; }` but bootstrap.min.css set `[hidden] { display: none !important; }` so we also need the `!important` here to be able to override the default hidden behavior on the sphinx rendered scikit-learn.org. See: https://github.com/scikit-learn/scikit-learn/issues/21755 */display: inline-block !important;position: relative;}#sk-container-id-6 div.sk-text-repr-fallback {display: none;}</style><div id=\"sk-container-id-6\" class=\"sk-top-container\"><div class=\"sk-text-repr-fallback\"><pre>GaussianMixture(n_components=3)</pre><b>In a Jupyter environment, please rerun this cell to show the HTML representation or trust the notebook. <br />On GitHub, the HTML representation is unable to render, please try loading this page with nbviewer.org.</b></div><div class=\"sk-container\" hidden><div class=\"sk-item\"><div class=\"sk-estimator sk-toggleable\"><input class=\"sk-toggleable__control sk-hidden--visually\" id=\"sk-estimator-id-6\" type=\"checkbox\" checked><label for=\"sk-estimator-id-6\" class=\"sk-toggleable__label sk-toggleable__label-arrow\">GaussianMixture</label><div class=\"sk-toggleable__content\"><pre>GaussianMixture(n_components=3)</pre></div></div></div></div></div>"
            ]
          },
          "metadata": {},
          "execution_count": 49
        }
      ]
    },
    {
      "cell_type": "code",
      "source": [
        "# K-means clustering visualization\n",
        "plt.scatter(X['Income'], X['Card Debt'], X['DebtIncomeRatio'], c=kmeans.labels_, cmap='viridis')\n",
        "plt.scatter(kmeans.cluster_centers_[:, 0], kmeans.cluster_centers_[:, 1], c='red', marker='x')\n",
        "plt.title('K-means Clustering')\n",
        "plt.xlabel('Income')\n",
        "plt.ylabel('Card Debt')\n",
        "plt.show()\n",
        "\n",
        "# DBSCAN clustering visualization\n",
        "plt.scatter(X['Income'], X['Card Debt'], X['DebtIncomeRatio'], c=dbscan.labels_, cmap='viridis')\n",
        "plt.title('DBSCAN Clustering')\n",
        "plt.xlabel('Income')\n",
        "plt.ylabel('Card Debt')\n",
        "plt.show()\n",
        "\n",
        "# GMM clustering visualization\n",
        "plt.scatter(X['Income'], X['Card Debt'], X['DebtIncomeRatio'], c=gmm.predict(X), cmap='viridis')\n",
        "plt.title('Gaussian Mixture Model Clustering')\n",
        "plt.xlabel('Income')\n",
        "plt.ylabel('Card Debt')\n",
        "plt.show()\n",
        "\n",
        "\n"
      ],
      "metadata": {
        "colab": {
          "base_uri": "https://localhost:8080/",
          "height": 1000
        },
        "id": "1ShC7Rtx4Dmr",
        "outputId": "92dcebcf-e638-4228-bea1-a6b5ab5b5c2a"
      },
      "execution_count": null,
      "outputs": [
        {
          "output_type": "display_data",
          "data": {
            "text/plain": [
              "<Figure size 640x480 with 1 Axes>"
            ],
            "image/png": "[encoded data removed]"
          },
          "metadata": {}
        },
        {
          "output_type": "display_data",
          "data": {
            "text/plain": [
              "<Figure size 640x480 with 1 Axes>"
            ],
            "image/png": "[encoded data removed]"
          },
          "metadata": {}
        },
        {
          "output_type": "display_data",
          "data": {
            "text/plain": [
              "<Figure size 640x480 with 1 Axes>"
            ],
            "image/png": "[encoded data removed]"
          },
          "metadata": {}
        }
      ]
    }
  ]
}